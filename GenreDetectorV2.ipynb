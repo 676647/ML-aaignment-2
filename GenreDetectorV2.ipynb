{
  "cells": [
    {
      "cell_type": "markdown",
      "metadata": {
        "id": "view-in-github",
        "colab_type": "text"
      },
      "source": [
        "<a href=\"https://colab.research.google.com/github/676647/ML-aaignment-2/blob/main/GenreDetectorV2.ipynb\" target=\"_parent\"><img src=\"https://colab.research.google.com/assets/colab-badge.svg\" alt=\"Open In Colab\"/></a>"
      ]
    },
    {
      "cell_type": "markdown",
      "metadata": {
        "id": "kAee7Fw65MPg"
      },
      "source": [
        "# **MUSIC GENRE CLASSIFICATION**"
      ]
    },
    {
      "cell_type": "markdown",
      "metadata": {
        "id": "j7YSLxZNB2Kq"
      },
      "source": [
        "https://www.kaggle.com/datasets/thedevastator/spotify-tracks-genre-dataset/data"
      ]
    },
    {
      "cell_type": "markdown",
      "metadata": {
        "id": "XnP-To2EodgY"
      },
      "source": [
        "1. danceability: 0 to 1 values shows how suitable a song is for dancing\n",
        "2. energy: 0 to 1 intensity and activity\n",
        "3. key: key of the track, int value\n",
        "4. loudness: decibles dB of track, float\n",
        "5. mode: tonal mode of the track > 0 for minor and 1 for major\n",
        "6. speechiness: 0 to 1, shows presence of spoken words\n",
        "7. acousticness: 0 to 1, represents the extent to which a track possesses an acoustic quality.\n",
        "8. instrumentalness: 0 to 1, likelihood of a track being instrumental\n",
        "9. liveness: 0 to 1, presence of audience during the recording\\performance\n",
        "10. valence: 0 to 1, musical positiveness conveyed\n",
        "11. tempo: tempo of track in bpm, int\n",
        "12. time_signature: number of beats within each bar of the track, int\n",
        "13. genre:"
      ]
    },
    {
      "cell_type": "markdown",
      "metadata": {
        "id": "ZtOmcoUNLeG-"
      },
      "source": [
        "# **1. Setup**"
      ]
    },
    {
      "cell_type": "code",
      "source": [
        "import pandas as pd\n",
        "from sklearn.preprocessing import StandardScaler, LabelEncoder\n",
        "from sklearn.ensemble import RandomForestClassifier\n",
        "from sklearn.model_selection import train_test_split\n",
        "import joblib\n",
        "import gradio as gr\n",
        "import numpy as np\n",
        "import matplotlib.pyplot as plt\n",
        "from sklearn.metrics import classification_report\n"
      ],
      "metadata": {
        "id": "T2C7hQtW8KRu"
      },
      "execution_count": null,
      "outputs": []
    },
    {
      "cell_type": "markdown",
      "metadata": {
        "id": "X5K3UpuNL0C2"
      },
      "source": [
        "Environment setup"
      ]
    },
    {
      "cell_type": "code",
      "execution_count": null,
      "metadata": {
        "colab": {
          "base_uri": "https://localhost:8080/"
        },
        "id": "iPAaXG6MLgBm",
        "outputId": "44355c5f-12e0-4a62-96ce-6c1ae62ab525"
      },
      "outputs": [
        {
          "output_type": "stream",
          "name": "stdout",
          "text": [
            "Mounted at /content/drive\n"
          ]
        }
      ],
      "source": [
        "from google.colab import drive\n",
        "drive.mount('/content/drive')"
      ]
    },
    {
      "cell_type": "code",
      "execution_count": null,
      "metadata": {
        "colab": {
          "base_uri": "https://localhost:8080/"
        },
        "id": "MBrM82SELjm6",
        "outputId": "736f2b64-0b2d-4e78-d95e-0cf44172fd34"
      },
      "outputs": [
        {
          "output_type": "stream",
          "name": "stdout",
          "text": [
            "Created in: /content/drive/MyDrive/GenreDetectorV2\n"
          ]
        }
      ],
      "source": [
        "PATH = '/content/drive/MyDrive/GenreDetectorV2'\n",
        "\n",
        "import os\n",
        "if not os.path.exists(PATH):\n",
        "    os.makedirs(PATH)\n",
        "    os.makedirs(os.path.join(PATH, 'data'))\n",
        "    os.makedirs(os.path.join(PATH, 'models'))\n",
        "    print(f\"Created in: {PATH}\")\n",
        "else:\n",
        "    print(f\"Path exists: {PATH}\")"
      ]
    },
    {
      "cell_type": "markdown",
      "metadata": {
        "id": "V53Pxds4l7yZ"
      },
      "source": [
        "# **2. Dataset Exploration and Cleaning**"
      ]
    },
    {
      "cell_type": "markdown",
      "metadata": {
        "id": "PvtS2ZUEvMXa"
      },
      "source": [
        "## 2.1 Load and Inspect"
      ]
    },
    {
      "cell_type": "code",
      "execution_count": null,
      "metadata": {
        "colab": {
          "base_uri": "https://localhost:8080/",
          "height": 394
        },
        "id": "iqMS8FFUl4Ej",
        "outputId": "193a8ad5-ef09-44fa-c636-a44ede7e1cf5"
      },
      "outputs": [
        {
          "output_type": "execute_result",
          "data": {
            "text/plain": [
              "   Unnamed: 0                track_id                 artists  \\\n",
              "0           0  5SuOikwiRyPMVoIQDJUgSV             Gen Hoshino   \n",
              "1           1  4qPNDBW1i3p13qLCt0Ki3A            Ben Woodward   \n",
              "2           2  1iJBSr7s7jYXzM8EGcbK5b  Ingrid Michaelson;ZAYN   \n",
              "3           3  6lfxq3CG4xtTiEg7opyCyx            Kina Grannis   \n",
              "4           4  5vjLSffimiIP26QG5WcN2K        Chord Overstreet   \n",
              "\n",
              "                                          album_name  \\\n",
              "0                                             Comedy   \n",
              "1                                   Ghost (Acoustic)   \n",
              "2                                     To Begin Again   \n",
              "3  Crazy Rich Asians (Original Motion Picture Sou...   \n",
              "4                                            Hold On   \n",
              "\n",
              "                   track_name  popularity  duration_ms  explicit  \\\n",
              "0                      Comedy          73       230666     False   \n",
              "1            Ghost - Acoustic          55       149610     False   \n",
              "2              To Begin Again          57       210826     False   \n",
              "3  Can't Help Falling In Love          71       201933     False   \n",
              "4                     Hold On          82       198853     False   \n",
              "\n",
              "   danceability  energy  ...  loudness  mode  speechiness  acousticness  \\\n",
              "0         0.676  0.4610  ...    -6.746     0       0.1430        0.0322   \n",
              "1         0.420  0.1660  ...   -17.235     1       0.0763        0.9240   \n",
              "2         0.438  0.3590  ...    -9.734     1       0.0557        0.2100   \n",
              "3         0.266  0.0596  ...   -18.515     1       0.0363        0.9050   \n",
              "4         0.618  0.4430  ...    -9.681     1       0.0526        0.4690   \n",
              "\n",
              "   instrumentalness  liveness  valence    tempo  time_signature  track_genre  \n",
              "0          0.000001    0.3580    0.715   87.917               4     acoustic  \n",
              "1          0.000006    0.1010    0.267   77.489               4     acoustic  \n",
              "2          0.000000    0.1170    0.120   76.332               4     acoustic  \n",
              "3          0.000071    0.1320    0.143  181.740               3     acoustic  \n",
              "4          0.000000    0.0829    0.167  119.949               4     acoustic  \n",
              "\n",
              "[5 rows x 21 columns]"
            ],
            "text/html": [
              "\n",
              "  <div id=\"df-46274d77-bdd8-44b6-8e12-8dcf5973cb34\" class=\"colab-df-container\">\n",
              "    <div>\n",
              "<style scoped>\n",
              "    .dataframe tbody tr th:only-of-type {\n",
              "        vertical-align: middle;\n",
              "    }\n",
              "\n",
              "    .dataframe tbody tr th {\n",
              "        vertical-align: top;\n",
              "    }\n",
              "\n",
              "    .dataframe thead th {\n",
              "        text-align: right;\n",
              "    }\n",
              "</style>\n",
              "<table border=\"1\" class=\"dataframe\">\n",
              "  <thead>\n",
              "    <tr style=\"text-align: right;\">\n",
              "      <th></th>\n",
              "      <th>Unnamed: 0</th>\n",
              "      <th>track_id</th>\n",
              "      <th>artists</th>\n",
              "      <th>album_name</th>\n",
              "      <th>track_name</th>\n",
              "      <th>popularity</th>\n",
              "      <th>duration_ms</th>\n",
              "      <th>explicit</th>\n",
              "      <th>danceability</th>\n",
              "      <th>energy</th>\n",
              "      <th>...</th>\n",
              "      <th>loudness</th>\n",
              "      <th>mode</th>\n",
              "      <th>speechiness</th>\n",
              "      <th>acousticness</th>\n",
              "      <th>instrumentalness</th>\n",
              "      <th>liveness</th>\n",
              "      <th>valence</th>\n",
              "      <th>tempo</th>\n",
              "      <th>time_signature</th>\n",
              "      <th>track_genre</th>\n",
              "    </tr>\n",
              "  </thead>\n",
              "  <tbody>\n",
              "    <tr>\n",
              "      <th>0</th>\n",
              "      <td>0</td>\n",
              "      <td>5SuOikwiRyPMVoIQDJUgSV</td>\n",
              "      <td>Gen Hoshino</td>\n",
              "      <td>Comedy</td>\n",
              "      <td>Comedy</td>\n",
              "      <td>73</td>\n",
              "      <td>230666</td>\n",
              "      <td>False</td>\n",
              "      <td>0.676</td>\n",
              "      <td>0.4610</td>\n",
              "      <td>...</td>\n",
              "      <td>-6.746</td>\n",
              "      <td>0</td>\n",
              "      <td>0.1430</td>\n",
              "      <td>0.0322</td>\n",
              "      <td>0.000001</td>\n",
              "      <td>0.3580</td>\n",
              "      <td>0.715</td>\n",
              "      <td>87.917</td>\n",
              "      <td>4</td>\n",
              "      <td>acoustic</td>\n",
              "    </tr>\n",
              "    <tr>\n",
              "      <th>1</th>\n",
              "      <td>1</td>\n",
              "      <td>4qPNDBW1i3p13qLCt0Ki3A</td>\n",
              "      <td>Ben Woodward</td>\n",
              "      <td>Ghost (Acoustic)</td>\n",
              "      <td>Ghost - Acoustic</td>\n",
              "      <td>55</td>\n",
              "      <td>149610</td>\n",
              "      <td>False</td>\n",
              "      <td>0.420</td>\n",
              "      <td>0.1660</td>\n",
              "      <td>...</td>\n",
              "      <td>-17.235</td>\n",
              "      <td>1</td>\n",
              "      <td>0.0763</td>\n",
              "      <td>0.9240</td>\n",
              "      <td>0.000006</td>\n",
              "      <td>0.1010</td>\n",
              "      <td>0.267</td>\n",
              "      <td>77.489</td>\n",
              "      <td>4</td>\n",
              "      <td>acoustic</td>\n",
              "    </tr>\n",
              "    <tr>\n",
              "      <th>2</th>\n",
              "      <td>2</td>\n",
              "      <td>1iJBSr7s7jYXzM8EGcbK5b</td>\n",
              "      <td>Ingrid Michaelson;ZAYN</td>\n",
              "      <td>To Begin Again</td>\n",
              "      <td>To Begin Again</td>\n",
              "      <td>57</td>\n",
              "      <td>210826</td>\n",
              "      <td>False</td>\n",
              "      <td>0.438</td>\n",
              "      <td>0.3590</td>\n",
              "      <td>...</td>\n",
              "      <td>-9.734</td>\n",
              "      <td>1</td>\n",
              "      <td>0.0557</td>\n",
              "      <td>0.2100</td>\n",
              "      <td>0.000000</td>\n",
              "      <td>0.1170</td>\n",
              "      <td>0.120</td>\n",
              "      <td>76.332</td>\n",
              "      <td>4</td>\n",
              "      <td>acoustic</td>\n",
              "    </tr>\n",
              "    <tr>\n",
              "      <th>3</th>\n",
              "      <td>3</td>\n",
              "      <td>6lfxq3CG4xtTiEg7opyCyx</td>\n",
              "      <td>Kina Grannis</td>\n",
              "      <td>Crazy Rich Asians (Original Motion Picture Sou...</td>\n",
              "      <td>Can't Help Falling In Love</td>\n",
              "      <td>71</td>\n",
              "      <td>201933</td>\n",
              "      <td>False</td>\n",
              "      <td>0.266</td>\n",
              "      <td>0.0596</td>\n",
              "      <td>...</td>\n",
              "      <td>-18.515</td>\n",
              "      <td>1</td>\n",
              "      <td>0.0363</td>\n",
              "      <td>0.9050</td>\n",
              "      <td>0.000071</td>\n",
              "      <td>0.1320</td>\n",
              "      <td>0.143</td>\n",
              "      <td>181.740</td>\n",
              "      <td>3</td>\n",
              "      <td>acoustic</td>\n",
              "    </tr>\n",
              "    <tr>\n",
              "      <th>4</th>\n",
              "      <td>4</td>\n",
              "      <td>5vjLSffimiIP26QG5WcN2K</td>\n",
              "      <td>Chord Overstreet</td>\n",
              "      <td>Hold On</td>\n",
              "      <td>Hold On</td>\n",
              "      <td>82</td>\n",
              "      <td>198853</td>\n",
              "      <td>False</td>\n",
              "      <td>0.618</td>\n",
              "      <td>0.4430</td>\n",
              "      <td>...</td>\n",
              "      <td>-9.681</td>\n",
              "      <td>1</td>\n",
              "      <td>0.0526</td>\n",
              "      <td>0.4690</td>\n",
              "      <td>0.000000</td>\n",
              "      <td>0.0829</td>\n",
              "      <td>0.167</td>\n",
              "      <td>119.949</td>\n",
              "      <td>4</td>\n",
              "      <td>acoustic</td>\n",
              "    </tr>\n",
              "  </tbody>\n",
              "</table>\n",
              "<p>5 rows × 21 columns</p>\n",
              "</div>\n",
              "    <div class=\"colab-df-buttons\">\n",
              "\n",
              "  <div class=\"colab-df-container\">\n",
              "    <button class=\"colab-df-convert\" onclick=\"convertToInteractive('df-46274d77-bdd8-44b6-8e12-8dcf5973cb34')\"\n",
              "            title=\"Convert this dataframe to an interactive table.\"\n",
              "            style=\"display:none;\">\n",
              "\n",
              "  <svg xmlns=\"http://www.w3.org/2000/svg\" height=\"24px\" viewBox=\"0 -960 960 960\">\n",
              "    <path d=\"M120-120v-720h720v720H120Zm60-500h600v-160H180v160Zm220 220h160v-160H400v160Zm0 220h160v-160H400v160ZM180-400h160v-160H180v160Zm440 0h160v-160H620v160ZM180-180h160v-160H180v160Zm440 0h160v-160H620v160Z\"/>\n",
              "  </svg>\n",
              "    </button>\n",
              "\n",
              "  <style>\n",
              "    .colab-df-container {\n",
              "      display:flex;\n",
              "      gap: 12px;\n",
              "    }\n",
              "\n",
              "    .colab-df-convert {\n",
              "      background-color: #E8F0FE;\n",
              "      border: none;\n",
              "      border-radius: 50%;\n",
              "      cursor: pointer;\n",
              "      display: none;\n",
              "      fill: #1967D2;\n",
              "      height: 32px;\n",
              "      padding: 0 0 0 0;\n",
              "      width: 32px;\n",
              "    }\n",
              "\n",
              "    .colab-df-convert:hover {\n",
              "      background-color: #E2EBFA;\n",
              "      box-shadow: 0px 1px 2px rgba(60, 64, 67, 0.3), 0px 1px 3px 1px rgba(60, 64, 67, 0.15);\n",
              "      fill: #174EA6;\n",
              "    }\n",
              "\n",
              "    .colab-df-buttons div {\n",
              "      margin-bottom: 4px;\n",
              "    }\n",
              "\n",
              "    [theme=dark] .colab-df-convert {\n",
              "      background-color: #3B4455;\n",
              "      fill: #D2E3FC;\n",
              "    }\n",
              "\n",
              "    [theme=dark] .colab-df-convert:hover {\n",
              "      background-color: #434B5C;\n",
              "      box-shadow: 0px 1px 3px 1px rgba(0, 0, 0, 0.15);\n",
              "      filter: drop-shadow(0px 1px 2px rgba(0, 0, 0, 0.3));\n",
              "      fill: #FFFFFF;\n",
              "    }\n",
              "  </style>\n",
              "\n",
              "    <script>\n",
              "      const buttonEl =\n",
              "        document.querySelector('#df-46274d77-bdd8-44b6-8e12-8dcf5973cb34 button.colab-df-convert');\n",
              "      buttonEl.style.display =\n",
              "        google.colab.kernel.accessAllowed ? 'block' : 'none';\n",
              "\n",
              "      async function convertToInteractive(key) {\n",
              "        const element = document.querySelector('#df-46274d77-bdd8-44b6-8e12-8dcf5973cb34');\n",
              "        const dataTable =\n",
              "          await google.colab.kernel.invokeFunction('convertToInteractive',\n",
              "                                                    [key], {});\n",
              "        if (!dataTable) return;\n",
              "\n",
              "        const docLinkHtml = 'Like what you see? Visit the ' +\n",
              "          '<a target=\"_blank\" href=https://colab.research.google.com/notebooks/data_table.ipynb>data table notebook</a>'\n",
              "          + ' to learn more about interactive tables.';\n",
              "        element.innerHTML = '';\n",
              "        dataTable['output_type'] = 'display_data';\n",
              "        await google.colab.output.renderOutput(dataTable, element);\n",
              "        const docLink = document.createElement('div');\n",
              "        docLink.innerHTML = docLinkHtml;\n",
              "        element.appendChild(docLink);\n",
              "      }\n",
              "    </script>\n",
              "  </div>\n",
              "\n",
              "\n",
              "    <div id=\"df-e2d7531b-d7be-426c-9d63-b6e79aa4e735\">\n",
              "      <button class=\"colab-df-quickchart\" onclick=\"quickchart('df-e2d7531b-d7be-426c-9d63-b6e79aa4e735')\"\n",
              "                title=\"Suggest charts\"\n",
              "                style=\"display:none;\">\n",
              "\n",
              "<svg xmlns=\"http://www.w3.org/2000/svg\" height=\"24px\"viewBox=\"0 0 24 24\"\n",
              "     width=\"24px\">\n",
              "    <g>\n",
              "        <path d=\"M19 3H5c-1.1 0-2 .9-2 2v14c0 1.1.9 2 2 2h14c1.1 0 2-.9 2-2V5c0-1.1-.9-2-2-2zM9 17H7v-7h2v7zm4 0h-2V7h2v10zm4 0h-2v-4h2v4z\"/>\n",
              "    </g>\n",
              "</svg>\n",
              "      </button>\n",
              "\n",
              "<style>\n",
              "  .colab-df-quickchart {\n",
              "      --bg-color: #E8F0FE;\n",
              "      --fill-color: #1967D2;\n",
              "      --hover-bg-color: #E2EBFA;\n",
              "      --hover-fill-color: #174EA6;\n",
              "      --disabled-fill-color: #AAA;\n",
              "      --disabled-bg-color: #DDD;\n",
              "  }\n",
              "\n",
              "  [theme=dark] .colab-df-quickchart {\n",
              "      --bg-color: #3B4455;\n",
              "      --fill-color: #D2E3FC;\n",
              "      --hover-bg-color: #434B5C;\n",
              "      --hover-fill-color: #FFFFFF;\n",
              "      --disabled-bg-color: #3B4455;\n",
              "      --disabled-fill-color: #666;\n",
              "  }\n",
              "\n",
              "  .colab-df-quickchart {\n",
              "    background-color: var(--bg-color);\n",
              "    border: none;\n",
              "    border-radius: 50%;\n",
              "    cursor: pointer;\n",
              "    display: none;\n",
              "    fill: var(--fill-color);\n",
              "    height: 32px;\n",
              "    padding: 0;\n",
              "    width: 32px;\n",
              "  }\n",
              "\n",
              "  .colab-df-quickchart:hover {\n",
              "    background-color: var(--hover-bg-color);\n",
              "    box-shadow: 0 1px 2px rgba(60, 64, 67, 0.3), 0 1px 3px 1px rgba(60, 64, 67, 0.15);\n",
              "    fill: var(--button-hover-fill-color);\n",
              "  }\n",
              "\n",
              "  .colab-df-quickchart-complete:disabled,\n",
              "  .colab-df-quickchart-complete:disabled:hover {\n",
              "    background-color: var(--disabled-bg-color);\n",
              "    fill: var(--disabled-fill-color);\n",
              "    box-shadow: none;\n",
              "  }\n",
              "\n",
              "  .colab-df-spinner {\n",
              "    border: 2px solid var(--fill-color);\n",
              "    border-color: transparent;\n",
              "    border-bottom-color: var(--fill-color);\n",
              "    animation:\n",
              "      spin 1s steps(1) infinite;\n",
              "  }\n",
              "\n",
              "  @keyframes spin {\n",
              "    0% {\n",
              "      border-color: transparent;\n",
              "      border-bottom-color: var(--fill-color);\n",
              "      border-left-color: var(--fill-color);\n",
              "    }\n",
              "    20% {\n",
              "      border-color: transparent;\n",
              "      border-left-color: var(--fill-color);\n",
              "      border-top-color: var(--fill-color);\n",
              "    }\n",
              "    30% {\n",
              "      border-color: transparent;\n",
              "      border-left-color: var(--fill-color);\n",
              "      border-top-color: var(--fill-color);\n",
              "      border-right-color: var(--fill-color);\n",
              "    }\n",
              "    40% {\n",
              "      border-color: transparent;\n",
              "      border-right-color: var(--fill-color);\n",
              "      border-top-color: var(--fill-color);\n",
              "    }\n",
              "    60% {\n",
              "      border-color: transparent;\n",
              "      border-right-color: var(--fill-color);\n",
              "    }\n",
              "    80% {\n",
              "      border-color: transparent;\n",
              "      border-right-color: var(--fill-color);\n",
              "      border-bottom-color: var(--fill-color);\n",
              "    }\n",
              "    90% {\n",
              "      border-color: transparent;\n",
              "      border-bottom-color: var(--fill-color);\n",
              "    }\n",
              "  }\n",
              "</style>\n",
              "\n",
              "      <script>\n",
              "        async function quickchart(key) {\n",
              "          const quickchartButtonEl =\n",
              "            document.querySelector('#' + key + ' button');\n",
              "          quickchartButtonEl.disabled = true;  // To prevent multiple clicks.\n",
              "          quickchartButtonEl.classList.add('colab-df-spinner');\n",
              "          try {\n",
              "            const charts = await google.colab.kernel.invokeFunction(\n",
              "                'suggestCharts', [key], {});\n",
              "          } catch (error) {\n",
              "            console.error('Error during call to suggestCharts:', error);\n",
              "          }\n",
              "          quickchartButtonEl.classList.remove('colab-df-spinner');\n",
              "          quickchartButtonEl.classList.add('colab-df-quickchart-complete');\n",
              "        }\n",
              "        (() => {\n",
              "          let quickchartButtonEl =\n",
              "            document.querySelector('#df-e2d7531b-d7be-426c-9d63-b6e79aa4e735 button');\n",
              "          quickchartButtonEl.style.display =\n",
              "            google.colab.kernel.accessAllowed ? 'block' : 'none';\n",
              "        })();\n",
              "      </script>\n",
              "    </div>\n",
              "\n",
              "    </div>\n",
              "  </div>\n"
            ],
            "application/vnd.google.colaboratory.intrinsic+json": {
              "type": "dataframe",
              "variable_name": "df"
            }
          },
          "metadata": {},
          "execution_count": 4
        }
      ],
      "source": [
        "import pandas as pd\n",
        "import numpy as np\n",
        "\n",
        "DATA_PATH = os.path.join(PATH, 'data', \"train.csv\")\n",
        "df = pd.read_csv(DATA_PATH)\n",
        "df.head()"
      ]
    },
    {
      "cell_type": "code",
      "execution_count": null,
      "metadata": {
        "colab": {
          "base_uri": "https://localhost:8080/"
        },
        "id": "-jGDzfuo66x5",
        "outputId": "86e0377c-7dc3-45c4-da73-ce8c90cb2fd5"
      },
      "outputs": [
        {
          "output_type": "stream",
          "name": "stdout",
          "text": [
            "<class 'pandas.core.frame.DataFrame'>\n",
            "RangeIndex: 114000 entries, 0 to 113999\n",
            "Data columns (total 21 columns):\n",
            " #   Column            Non-Null Count   Dtype  \n",
            "---  ------            --------------   -----  \n",
            " 0   Unnamed: 0        114000 non-null  int64  \n",
            " 1   track_id          114000 non-null  object \n",
            " 2   artists           113999 non-null  object \n",
            " 3   album_name        113999 non-null  object \n",
            " 4   track_name        113999 non-null  object \n",
            " 5   popularity        114000 non-null  int64  \n",
            " 6   duration_ms       114000 non-null  int64  \n",
            " 7   explicit          114000 non-null  bool   \n",
            " 8   danceability      114000 non-null  float64\n",
            " 9   energy            114000 non-null  float64\n",
            " 10  key               114000 non-null  int64  \n",
            " 11  loudness          114000 non-null  float64\n",
            " 12  mode              114000 non-null  int64  \n",
            " 13  speechiness       114000 non-null  float64\n",
            " 14  acousticness      114000 non-null  float64\n",
            " 15  instrumentalness  114000 non-null  float64\n",
            " 16  liveness          114000 non-null  float64\n",
            " 17  valence           114000 non-null  float64\n",
            " 18  tempo             114000 non-null  float64\n",
            " 19  time_signature    114000 non-null  int64  \n",
            " 20  track_genre       114000 non-null  object \n",
            "dtypes: bool(1), float64(9), int64(6), object(5)\n",
            "memory usage: 17.5+ MB\n"
          ]
        }
      ],
      "source": [
        "df.info()"
      ]
    },
    {
      "cell_type": "code",
      "execution_count": null,
      "metadata": {
        "colab": {
          "base_uri": "https://localhost:8080/"
        },
        "id": "pgoYp0Bw8F7n",
        "outputId": "fd6871d9-7244-4a75-e7bf-ae67dbb8748b"
      },
      "outputs": [
        {
          "output_type": "execute_result",
          "data": {
            "text/plain": [
              "(114000, 21)"
            ]
          },
          "metadata": {},
          "execution_count": 6
        }
      ],
      "source": [
        "df.shape"
      ]
    },
    {
      "cell_type": "code",
      "execution_count": null,
      "metadata": {
        "colab": {
          "base_uri": "https://localhost:8080/",
          "height": 320
        },
        "id": "CrP3L-kI8JPM",
        "outputId": "df4716bf-50da-4a80-aa7f-64020e88ec2e"
      },
      "outputs": [
        {
          "output_type": "execute_result",
          "data": {
            "text/plain": [
              "          Unnamed: 0     popularity   duration_ms   danceability  \\\n",
              "count  114000.000000  114000.000000  1.140000e+05  114000.000000   \n",
              "mean    56999.500000      33.238535  2.280292e+05       0.566800   \n",
              "std     32909.109681      22.305078  1.072977e+05       0.173542   \n",
              "min         0.000000       0.000000  0.000000e+00       0.000000   \n",
              "25%     28499.750000      17.000000  1.740660e+05       0.456000   \n",
              "50%     56999.500000      35.000000  2.129060e+05       0.580000   \n",
              "75%     85499.250000      50.000000  2.615060e+05       0.695000   \n",
              "max    113999.000000     100.000000  5.237295e+06       0.985000   \n",
              "\n",
              "              energy            key       loudness           mode  \\\n",
              "count  114000.000000  114000.000000  114000.000000  114000.000000   \n",
              "mean        0.641383       5.309140      -8.258960       0.637553   \n",
              "std         0.251529       3.559987       5.029337       0.480709   \n",
              "min         0.000000       0.000000     -49.531000       0.000000   \n",
              "25%         0.472000       2.000000     -10.013000       0.000000   \n",
              "50%         0.685000       5.000000      -7.004000       1.000000   \n",
              "75%         0.854000       8.000000      -5.003000       1.000000   \n",
              "max         1.000000      11.000000       4.532000       1.000000   \n",
              "\n",
              "         speechiness   acousticness  instrumentalness       liveness  \\\n",
              "count  114000.000000  114000.000000     114000.000000  114000.000000   \n",
              "mean        0.084652       0.314910          0.156050       0.213553   \n",
              "std         0.105732       0.332523          0.309555       0.190378   \n",
              "min         0.000000       0.000000          0.000000       0.000000   \n",
              "25%         0.035900       0.016900          0.000000       0.098000   \n",
              "50%         0.048900       0.169000          0.000042       0.132000   \n",
              "75%         0.084500       0.598000          0.049000       0.273000   \n",
              "max         0.965000       0.996000          1.000000       1.000000   \n",
              "\n",
              "             valence          tempo  time_signature  \n",
              "count  114000.000000  114000.000000   114000.000000  \n",
              "mean        0.474068     122.147837        3.904035  \n",
              "std         0.259261      29.978197        0.432621  \n",
              "min         0.000000       0.000000        0.000000  \n",
              "25%         0.260000      99.218750        4.000000  \n",
              "50%         0.464000     122.017000        4.000000  \n",
              "75%         0.683000     140.071000        4.000000  \n",
              "max         0.995000     243.372000        5.000000  "
            ],
            "text/html": [
              "\n",
              "  <div id=\"df-78d12b14-b796-44ab-86cf-d415c081f244\" class=\"colab-df-container\">\n",
              "    <div>\n",
              "<style scoped>\n",
              "    .dataframe tbody tr th:only-of-type {\n",
              "        vertical-align: middle;\n",
              "    }\n",
              "\n",
              "    .dataframe tbody tr th {\n",
              "        vertical-align: top;\n",
              "    }\n",
              "\n",
              "    .dataframe thead th {\n",
              "        text-align: right;\n",
              "    }\n",
              "</style>\n",
              "<table border=\"1\" class=\"dataframe\">\n",
              "  <thead>\n",
              "    <tr style=\"text-align: right;\">\n",
              "      <th></th>\n",
              "      <th>Unnamed: 0</th>\n",
              "      <th>popularity</th>\n",
              "      <th>duration_ms</th>\n",
              "      <th>danceability</th>\n",
              "      <th>energy</th>\n",
              "      <th>key</th>\n",
              "      <th>loudness</th>\n",
              "      <th>mode</th>\n",
              "      <th>speechiness</th>\n",
              "      <th>acousticness</th>\n",
              "      <th>instrumentalness</th>\n",
              "      <th>liveness</th>\n",
              "      <th>valence</th>\n",
              "      <th>tempo</th>\n",
              "      <th>time_signature</th>\n",
              "    </tr>\n",
              "  </thead>\n",
              "  <tbody>\n",
              "    <tr>\n",
              "      <th>count</th>\n",
              "      <td>114000.000000</td>\n",
              "      <td>114000.000000</td>\n",
              "      <td>1.140000e+05</td>\n",
              "      <td>114000.000000</td>\n",
              "      <td>114000.000000</td>\n",
              "      <td>114000.000000</td>\n",
              "      <td>114000.000000</td>\n",
              "      <td>114000.000000</td>\n",
              "      <td>114000.000000</td>\n",
              "      <td>114000.000000</td>\n",
              "      <td>114000.000000</td>\n",
              "      <td>114000.000000</td>\n",
              "      <td>114000.000000</td>\n",
              "      <td>114000.000000</td>\n",
              "      <td>114000.000000</td>\n",
              "    </tr>\n",
              "    <tr>\n",
              "      <th>mean</th>\n",
              "      <td>56999.500000</td>\n",
              "      <td>33.238535</td>\n",
              "      <td>2.280292e+05</td>\n",
              "      <td>0.566800</td>\n",
              "      <td>0.641383</td>\n",
              "      <td>5.309140</td>\n",
              "      <td>-8.258960</td>\n",
              "      <td>0.637553</td>\n",
              "      <td>0.084652</td>\n",
              "      <td>0.314910</td>\n",
              "      <td>0.156050</td>\n",
              "      <td>0.213553</td>\n",
              "      <td>0.474068</td>\n",
              "      <td>122.147837</td>\n",
              "      <td>3.904035</td>\n",
              "    </tr>\n",
              "    <tr>\n",
              "      <th>std</th>\n",
              "      <td>32909.109681</td>\n",
              "      <td>22.305078</td>\n",
              "      <td>1.072977e+05</td>\n",
              "      <td>0.173542</td>\n",
              "      <td>0.251529</td>\n",
              "      <td>3.559987</td>\n",
              "      <td>5.029337</td>\n",
              "      <td>0.480709</td>\n",
              "      <td>0.105732</td>\n",
              "      <td>0.332523</td>\n",
              "      <td>0.309555</td>\n",
              "      <td>0.190378</td>\n",
              "      <td>0.259261</td>\n",
              "      <td>29.978197</td>\n",
              "      <td>0.432621</td>\n",
              "    </tr>\n",
              "    <tr>\n",
              "      <th>min</th>\n",
              "      <td>0.000000</td>\n",
              "      <td>0.000000</td>\n",
              "      <td>0.000000e+00</td>\n",
              "      <td>0.000000</td>\n",
              "      <td>0.000000</td>\n",
              "      <td>0.000000</td>\n",
              "      <td>-49.531000</td>\n",
              "      <td>0.000000</td>\n",
              "      <td>0.000000</td>\n",
              "      <td>0.000000</td>\n",
              "      <td>0.000000</td>\n",
              "      <td>0.000000</td>\n",
              "      <td>0.000000</td>\n",
              "      <td>0.000000</td>\n",
              "      <td>0.000000</td>\n",
              "    </tr>\n",
              "    <tr>\n",
              "      <th>25%</th>\n",
              "      <td>28499.750000</td>\n",
              "      <td>17.000000</td>\n",
              "      <td>1.740660e+05</td>\n",
              "      <td>0.456000</td>\n",
              "      <td>0.472000</td>\n",
              "      <td>2.000000</td>\n",
              "      <td>-10.013000</td>\n",
              "      <td>0.000000</td>\n",
              "      <td>0.035900</td>\n",
              "      <td>0.016900</td>\n",
              "      <td>0.000000</td>\n",
              "      <td>0.098000</td>\n",
              "      <td>0.260000</td>\n",
              "      <td>99.218750</td>\n",
              "      <td>4.000000</td>\n",
              "    </tr>\n",
              "    <tr>\n",
              "      <th>50%</th>\n",
              "      <td>56999.500000</td>\n",
              "      <td>35.000000</td>\n",
              "      <td>2.129060e+05</td>\n",
              "      <td>0.580000</td>\n",
              "      <td>0.685000</td>\n",
              "      <td>5.000000</td>\n",
              "      <td>-7.004000</td>\n",
              "      <td>1.000000</td>\n",
              "      <td>0.048900</td>\n",
              "      <td>0.169000</td>\n",
              "      <td>0.000042</td>\n",
              "      <td>0.132000</td>\n",
              "      <td>0.464000</td>\n",
              "      <td>122.017000</td>\n",
              "      <td>4.000000</td>\n",
              "    </tr>\n",
              "    <tr>\n",
              "      <th>75%</th>\n",
              "      <td>85499.250000</td>\n",
              "      <td>50.000000</td>\n",
              "      <td>2.615060e+05</td>\n",
              "      <td>0.695000</td>\n",
              "      <td>0.854000</td>\n",
              "      <td>8.000000</td>\n",
              "      <td>-5.003000</td>\n",
              "      <td>1.000000</td>\n",
              "      <td>0.084500</td>\n",
              "      <td>0.598000</td>\n",
              "      <td>0.049000</td>\n",
              "      <td>0.273000</td>\n",
              "      <td>0.683000</td>\n",
              "      <td>140.071000</td>\n",
              "      <td>4.000000</td>\n",
              "    </tr>\n",
              "    <tr>\n",
              "      <th>max</th>\n",
              "      <td>113999.000000</td>\n",
              "      <td>100.000000</td>\n",
              "      <td>5.237295e+06</td>\n",
              "      <td>0.985000</td>\n",
              "      <td>1.000000</td>\n",
              "      <td>11.000000</td>\n",
              "      <td>4.532000</td>\n",
              "      <td>1.000000</td>\n",
              "      <td>0.965000</td>\n",
              "      <td>0.996000</td>\n",
              "      <td>1.000000</td>\n",
              "      <td>1.000000</td>\n",
              "      <td>0.995000</td>\n",
              "      <td>243.372000</td>\n",
              "      <td>5.000000</td>\n",
              "    </tr>\n",
              "  </tbody>\n",
              "</table>\n",
              "</div>\n",
              "    <div class=\"colab-df-buttons\">\n",
              "\n",
              "  <div class=\"colab-df-container\">\n",
              "    <button class=\"colab-df-convert\" onclick=\"convertToInteractive('df-78d12b14-b796-44ab-86cf-d415c081f244')\"\n",
              "            title=\"Convert this dataframe to an interactive table.\"\n",
              "            style=\"display:none;\">\n",
              "\n",
              "  <svg xmlns=\"http://www.w3.org/2000/svg\" height=\"24px\" viewBox=\"0 -960 960 960\">\n",
              "    <path d=\"M120-120v-720h720v720H120Zm60-500h600v-160H180v160Zm220 220h160v-160H400v160Zm0 220h160v-160H400v160ZM180-400h160v-160H180v160Zm440 0h160v-160H620v160ZM180-180h160v-160H180v160Zm440 0h160v-160H620v160Z\"/>\n",
              "  </svg>\n",
              "    </button>\n",
              "\n",
              "  <style>\n",
              "    .colab-df-container {\n",
              "      display:flex;\n",
              "      gap: 12px;\n",
              "    }\n",
              "\n",
              "    .colab-df-convert {\n",
              "      background-color: #E8F0FE;\n",
              "      border: none;\n",
              "      border-radius: 50%;\n",
              "      cursor: pointer;\n",
              "      display: none;\n",
              "      fill: #1967D2;\n",
              "      height: 32px;\n",
              "      padding: 0 0 0 0;\n",
              "      width: 32px;\n",
              "    }\n",
              "\n",
              "    .colab-df-convert:hover {\n",
              "      background-color: #E2EBFA;\n",
              "      box-shadow: 0px 1px 2px rgba(60, 64, 67, 0.3), 0px 1px 3px 1px rgba(60, 64, 67, 0.15);\n",
              "      fill: #174EA6;\n",
              "    }\n",
              "\n",
              "    .colab-df-buttons div {\n",
              "      margin-bottom: 4px;\n",
              "    }\n",
              "\n",
              "    [theme=dark] .colab-df-convert {\n",
              "      background-color: #3B4455;\n",
              "      fill: #D2E3FC;\n",
              "    }\n",
              "\n",
              "    [theme=dark] .colab-df-convert:hover {\n",
              "      background-color: #434B5C;\n",
              "      box-shadow: 0px 1px 3px 1px rgba(0, 0, 0, 0.15);\n",
              "      filter: drop-shadow(0px 1px 2px rgba(0, 0, 0, 0.3));\n",
              "      fill: #FFFFFF;\n",
              "    }\n",
              "  </style>\n",
              "\n",
              "    <script>\n",
              "      const buttonEl =\n",
              "        document.querySelector('#df-78d12b14-b796-44ab-86cf-d415c081f244 button.colab-df-convert');\n",
              "      buttonEl.style.display =\n",
              "        google.colab.kernel.accessAllowed ? 'block' : 'none';\n",
              "\n",
              "      async function convertToInteractive(key) {\n",
              "        const element = document.querySelector('#df-78d12b14-b796-44ab-86cf-d415c081f244');\n",
              "        const dataTable =\n",
              "          await google.colab.kernel.invokeFunction('convertToInteractive',\n",
              "                                                    [key], {});\n",
              "        if (!dataTable) return;\n",
              "\n",
              "        const docLinkHtml = 'Like what you see? Visit the ' +\n",
              "          '<a target=\"_blank\" href=https://colab.research.google.com/notebooks/data_table.ipynb>data table notebook</a>'\n",
              "          + ' to learn more about interactive tables.';\n",
              "        element.innerHTML = '';\n",
              "        dataTable['output_type'] = 'display_data';\n",
              "        await google.colab.output.renderOutput(dataTable, element);\n",
              "        const docLink = document.createElement('div');\n",
              "        docLink.innerHTML = docLinkHtml;\n",
              "        element.appendChild(docLink);\n",
              "      }\n",
              "    </script>\n",
              "  </div>\n",
              "\n",
              "\n",
              "    <div id=\"df-3318d6af-898a-4257-bb09-13c16e48343d\">\n",
              "      <button class=\"colab-df-quickchart\" onclick=\"quickchart('df-3318d6af-898a-4257-bb09-13c16e48343d')\"\n",
              "                title=\"Suggest charts\"\n",
              "                style=\"display:none;\">\n",
              "\n",
              "<svg xmlns=\"http://www.w3.org/2000/svg\" height=\"24px\"viewBox=\"0 0 24 24\"\n",
              "     width=\"24px\">\n",
              "    <g>\n",
              "        <path d=\"M19 3H5c-1.1 0-2 .9-2 2v14c0 1.1.9 2 2 2h14c1.1 0 2-.9 2-2V5c0-1.1-.9-2-2-2zM9 17H7v-7h2v7zm4 0h-2V7h2v10zm4 0h-2v-4h2v4z\"/>\n",
              "    </g>\n",
              "</svg>\n",
              "      </button>\n",
              "\n",
              "<style>\n",
              "  .colab-df-quickchart {\n",
              "      --bg-color: #E8F0FE;\n",
              "      --fill-color: #1967D2;\n",
              "      --hover-bg-color: #E2EBFA;\n",
              "      --hover-fill-color: #174EA6;\n",
              "      --disabled-fill-color: #AAA;\n",
              "      --disabled-bg-color: #DDD;\n",
              "  }\n",
              "\n",
              "  [theme=dark] .colab-df-quickchart {\n",
              "      --bg-color: #3B4455;\n",
              "      --fill-color: #D2E3FC;\n",
              "      --hover-bg-color: #434B5C;\n",
              "      --hover-fill-color: #FFFFFF;\n",
              "      --disabled-bg-color: #3B4455;\n",
              "      --disabled-fill-color: #666;\n",
              "  }\n",
              "\n",
              "  .colab-df-quickchart {\n",
              "    background-color: var(--bg-color);\n",
              "    border: none;\n",
              "    border-radius: 50%;\n",
              "    cursor: pointer;\n",
              "    display: none;\n",
              "    fill: var(--fill-color);\n",
              "    height: 32px;\n",
              "    padding: 0;\n",
              "    width: 32px;\n",
              "  }\n",
              "\n",
              "  .colab-df-quickchart:hover {\n",
              "    background-color: var(--hover-bg-color);\n",
              "    box-shadow: 0 1px 2px rgba(60, 64, 67, 0.3), 0 1px 3px 1px rgba(60, 64, 67, 0.15);\n",
              "    fill: var(--button-hover-fill-color);\n",
              "  }\n",
              "\n",
              "  .colab-df-quickchart-complete:disabled,\n",
              "  .colab-df-quickchart-complete:disabled:hover {\n",
              "    background-color: var(--disabled-bg-color);\n",
              "    fill: var(--disabled-fill-color);\n",
              "    box-shadow: none;\n",
              "  }\n",
              "\n",
              "  .colab-df-spinner {\n",
              "    border: 2px solid var(--fill-color);\n",
              "    border-color: transparent;\n",
              "    border-bottom-color: var(--fill-color);\n",
              "    animation:\n",
              "      spin 1s steps(1) infinite;\n",
              "  }\n",
              "\n",
              "  @keyframes spin {\n",
              "    0% {\n",
              "      border-color: transparent;\n",
              "      border-bottom-color: var(--fill-color);\n",
              "      border-left-color: var(--fill-color);\n",
              "    }\n",
              "    20% {\n",
              "      border-color: transparent;\n",
              "      border-left-color: var(--fill-color);\n",
              "      border-top-color: var(--fill-color);\n",
              "    }\n",
              "    30% {\n",
              "      border-color: transparent;\n",
              "      border-left-color: var(--fill-color);\n",
              "      border-top-color: var(--fill-color);\n",
              "      border-right-color: var(--fill-color);\n",
              "    }\n",
              "    40% {\n",
              "      border-color: transparent;\n",
              "      border-right-color: var(--fill-color);\n",
              "      border-top-color: var(--fill-color);\n",
              "    }\n",
              "    60% {\n",
              "      border-color: transparent;\n",
              "      border-right-color: var(--fill-color);\n",
              "    }\n",
              "    80% {\n",
              "      border-color: transparent;\n",
              "      border-right-color: var(--fill-color);\n",
              "      border-bottom-color: var(--fill-color);\n",
              "    }\n",
              "    90% {\n",
              "      border-color: transparent;\n",
              "      border-bottom-color: var(--fill-color);\n",
              "    }\n",
              "  }\n",
              "</style>\n",
              "\n",
              "      <script>\n",
              "        async function quickchart(key) {\n",
              "          const quickchartButtonEl =\n",
              "            document.querySelector('#' + key + ' button');\n",
              "          quickchartButtonEl.disabled = true;  // To prevent multiple clicks.\n",
              "          quickchartButtonEl.classList.add('colab-df-spinner');\n",
              "          try {\n",
              "            const charts = await google.colab.kernel.invokeFunction(\n",
              "                'suggestCharts', [key], {});\n",
              "          } catch (error) {\n",
              "            console.error('Error during call to suggestCharts:', error);\n",
              "          }\n",
              "          quickchartButtonEl.classList.remove('colab-df-spinner');\n",
              "          quickchartButtonEl.classList.add('colab-df-quickchart-complete');\n",
              "        }\n",
              "        (() => {\n",
              "          let quickchartButtonEl =\n",
              "            document.querySelector('#df-3318d6af-898a-4257-bb09-13c16e48343d button');\n",
              "          quickchartButtonEl.style.display =\n",
              "            google.colab.kernel.accessAllowed ? 'block' : 'none';\n",
              "        })();\n",
              "      </script>\n",
              "    </div>\n",
              "\n",
              "    </div>\n",
              "  </div>\n"
            ],
            "application/vnd.google.colaboratory.intrinsic+json": {
              "type": "dataframe",
              "summary": "{\n  \"name\": \"df\",\n  \"rows\": 8,\n  \"fields\": [\n    {\n      \"column\": \"Unnamed: 0\",\n      \"properties\": {\n        \"dtype\": \"number\",\n        \"std\": 41085.93257984935,\n        \"min\": 0.0,\n        \"max\": 114000.0,\n        \"num_unique_values\": 7,\n        \"samples\": [\n          114000.0,\n          56999.5,\n          85499.25\n        ],\n        \"semantic_type\": \"\",\n        \"description\": \"\"\n      }\n    },\n    {\n      \"column\": \"popularity\",\n      \"properties\": {\n        \"dtype\": \"number\",\n        \"std\": 40292.089497001354,\n        \"min\": 0.0,\n        \"max\": 114000.0,\n        \"num_unique_values\": 8,\n        \"samples\": [\n          33.2385350877193,\n          35.0,\n          114000.0\n        ],\n        \"semantic_type\": \"\",\n        \"description\": \"\"\n      }\n    },\n    {\n      \"column\": \"duration_ms\",\n      \"properties\": {\n        \"dtype\": \"number\",\n        \"std\": 1798137.6098388718,\n        \"min\": 0.0,\n        \"max\": 5237295.0,\n        \"num_unique_values\": 8,\n        \"samples\": [\n          228029.15311403509,\n          212906.0,\n          114000.0\n        ],\n        \"semantic_type\": \"\",\n        \"description\": \"\"\n      }\n    },\n    {\n      \"column\": \"danceability\",\n      \"properties\": {\n        \"dtype\": \"number\",\n        \"std\": 40304.91195712618,\n        \"min\": 0.0,\n        \"max\": 114000.0,\n        \"num_unique_values\": 8,\n        \"samples\": [\n          0.5668000657894738,\n          0.58,\n          114000.0\n        ],\n        \"semantic_type\": \"\",\n        \"description\": \"\"\n      }\n    },\n    {\n      \"column\": \"energy\",\n      \"properties\": {\n        \"dtype\": \"number\",\n        \"std\": 40304.88935158368,\n        \"min\": 0.0,\n        \"max\": 114000.0,\n        \"num_unique_values\": 8,\n        \"samples\": [\n          0.6413827583964912,\n          0.685,\n          114000.0\n        ],\n        \"semantic_type\": \"\",\n        \"description\": \"\"\n      }\n    },\n    {\n      \"column\": \"key\",\n      \"properties\": {\n        \"dtype\": \"number\",\n        \"std\": 40303.32551459073,\n        \"min\": 0.0,\n        \"max\": 114000.0,\n        \"num_unique_values\": 8,\n        \"samples\": [\n          5.309140350877193,\n          5.0,\n          114000.0\n        ],\n        \"semantic_type\": \"\",\n        \"description\": \"\"\n      }\n    },\n    {\n      \"column\": \"loudness\",\n      \"properties\": {\n        \"dtype\": \"number\",\n        \"std\": 40308.6382281007,\n        \"min\": -49.531,\n        \"max\": 114000.0,\n        \"num_unique_values\": 8,\n        \"samples\": [\n          -8.258960368421052,\n          -7.004,\n          114000.0\n        ],\n        \"semantic_type\": \"\",\n        \"description\": \"\"\n      }\n    },\n    {\n      \"column\": \"mode\",\n      \"properties\": {\n        \"dtype\": \"number\",\n        \"std\": 40304.87852615427,\n        \"min\": 0.0,\n        \"max\": 114000.0,\n        \"num_unique_values\": 5,\n        \"samples\": [\n          0.6375526315789474,\n          1.0,\n          0.48070916423039883\n        ],\n        \"semantic_type\": \"\",\n        \"description\": \"\"\n      }\n    },\n    {\n      \"column\": \"speechiness\",\n      \"properties\": {\n        \"dtype\": \"number\",\n        \"std\": 40305.0196222212,\n        \"min\": 0.0,\n        \"max\": 114000.0,\n        \"num_unique_values\": 8,\n        \"samples\": [\n          0.08465211228070177,\n          0.0489,\n          114000.0\n        ],\n        \"semantic_type\": \"\",\n        \"description\": \"\"\n      }\n    },\n    {\n      \"column\": \"acousticness\",\n      \"properties\": {\n        \"dtype\": \"number\",\n        \"std\": 40304.96393013772,\n        \"min\": 0.0,\n        \"max\": 114000.0,\n        \"num_unique_values\": 8,\n        \"samples\": [\n          0.3149100624799999,\n          0.169,\n          114000.0\n        ],\n        \"semantic_type\": \"\",\n        \"description\": \"\"\n      }\n    },\n    {\n      \"column\": \"instrumentalness\",\n      \"properties\": {\n        \"dtype\": \"number\",\n        \"std\": 40305.01002786438,\n        \"min\": 0.0,\n        \"max\": 114000.0,\n        \"num_unique_values\": 7,\n        \"samples\": [\n          114000.0,\n          0.15604958922122808,\n          0.049\n        ],\n        \"semantic_type\": \"\",\n        \"description\": \"\"\n      }\n    },\n    {\n      \"column\": \"liveness\",\n      \"properties\": {\n        \"dtype\": \"number\",\n        \"std\": 40304.99021427321,\n        \"min\": 0.0,\n        \"max\": 114000.0,\n        \"num_unique_values\": 8,\n        \"samples\": [\n          0.21355283605263162,\n          0.132,\n          114000.0\n        ],\n        \"semantic_type\": \"\",\n        \"description\": \"\"\n      }\n    },\n    {\n      \"column\": \"valence\",\n      \"properties\": {\n        \"dtype\": \"number\",\n        \"std\": 40304.92817070117,\n        \"min\": 0.0,\n        \"max\": 114000.0,\n        \"num_unique_values\": 8,\n        \"samples\": [\n          0.4740682309736842,\n          0.464,\n          114000.0\n        ],\n        \"semantic_type\": \"\",\n        \"description\": \"\"\n      }\n    },\n    {\n      \"column\": \"tempo\",\n      \"properties\": {\n        \"dtype\": \"number\",\n        \"std\": 40266.9287746078,\n        \"min\": 0.0,\n        \"max\": 114000.0,\n        \"num_unique_values\": 8,\n        \"samples\": [\n          122.14783728947369,\n          122.017,\n          114000.0\n        ],\n        \"semantic_type\": \"\",\n        \"description\": \"\"\n      }\n    },\n    {\n      \"column\": \"time_signature\",\n      \"properties\": {\n        \"dtype\": \"number\",\n        \"std\": 40304.00890522618,\n        \"min\": 0.0,\n        \"max\": 114000.0,\n        \"num_unique_values\": 6,\n        \"samples\": [\n          114000.0,\n          3.9040350877192984,\n          5.0\n        ],\n        \"semantic_type\": \"\",\n        \"description\": \"\"\n      }\n    }\n  ]\n}"
            }
          },
          "metadata": {},
          "execution_count": 7
        }
      ],
      "source": [
        "df.describe()"
      ]
    },
    {
      "cell_type": "code",
      "execution_count": null,
      "metadata": {
        "colab": {
          "base_uri": "https://localhost:8080/"
        },
        "id": "F8ZiJKP78hKj",
        "outputId": "ccf15ffc-c776-45f3-cb33-a69bafab0e04"
      },
      "outputs": [
        {
          "output_type": "execute_result",
          "data": {
            "text/plain": [
              "Index(['Unnamed: 0', 'track_id', 'artists', 'album_name', 'track_name',\n",
              "       'popularity', 'duration_ms', 'explicit', 'danceability', 'energy',\n",
              "       'key', 'loudness', 'mode', 'speechiness', 'acousticness',\n",
              "       'instrumentalness', 'liveness', 'valence', 'tempo', 'time_signature',\n",
              "       'track_genre'],\n",
              "      dtype='object')"
            ]
          },
          "metadata": {},
          "execution_count": 8
        }
      ],
      "source": [
        "df.columns\n",
        "# Unnamed: 0, track_id, artists, album_name, track_name,\n",
        "# popularity, duration_ms, explicit, danceability,\n",
        "# energy, key, ,loudness, liveness, valence, tempo, time_signature,\n",
        "# track_genre"
      ]
    },
    {
      "cell_type": "markdown",
      "metadata": {
        "id": "Zn3mg3eH9E_j"
      },
      "source": [
        "## 2.2 EDA"
      ]
    },
    {
      "cell_type": "code",
      "execution_count": null,
      "metadata": {
        "colab": {
          "base_uri": "https://localhost:8080/",
          "height": 742
        },
        "id": "nmkVP2JK9NvP",
        "outputId": "6906284a-c87d-4eb5-a40a-d6cbc327ec9d"
      },
      "outputs": [
        {
          "output_type": "execute_result",
          "data": {
            "text/plain": [
              "Unnamed: 0          0\n",
              "track_id            0\n",
              "artists             1\n",
              "album_name          1\n",
              "track_name          1\n",
              "popularity          0\n",
              "duration_ms         0\n",
              "explicit            0\n",
              "danceability        0\n",
              "energy              0\n",
              "key                 0\n",
              "loudness            0\n",
              "mode                0\n",
              "speechiness         0\n",
              "acousticness        0\n",
              "instrumentalness    0\n",
              "liveness            0\n",
              "valence             0\n",
              "tempo               0\n",
              "time_signature      0\n",
              "track_genre         0\n",
              "dtype: int64"
            ],
            "text/html": [
              "<div>\n",
              "<style scoped>\n",
              "    .dataframe tbody tr th:only-of-type {\n",
              "        vertical-align: middle;\n",
              "    }\n",
              "\n",
              "    .dataframe tbody tr th {\n",
              "        vertical-align: top;\n",
              "    }\n",
              "\n",
              "    .dataframe thead th {\n",
              "        text-align: right;\n",
              "    }\n",
              "</style>\n",
              "<table border=\"1\" class=\"dataframe\">\n",
              "  <thead>\n",
              "    <tr style=\"text-align: right;\">\n",
              "      <th></th>\n",
              "      <th>0</th>\n",
              "    </tr>\n",
              "  </thead>\n",
              "  <tbody>\n",
              "    <tr>\n",
              "      <th>Unnamed: 0</th>\n",
              "      <td>0</td>\n",
              "    </tr>\n",
              "    <tr>\n",
              "      <th>track_id</th>\n",
              "      <td>0</td>\n",
              "    </tr>\n",
              "    <tr>\n",
              "      <th>artists</th>\n",
              "      <td>1</td>\n",
              "    </tr>\n",
              "    <tr>\n",
              "      <th>album_name</th>\n",
              "      <td>1</td>\n",
              "    </tr>\n",
              "    <tr>\n",
              "      <th>track_name</th>\n",
              "      <td>1</td>\n",
              "    </tr>\n",
              "    <tr>\n",
              "      <th>popularity</th>\n",
              "      <td>0</td>\n",
              "    </tr>\n",
              "    <tr>\n",
              "      <th>duration_ms</th>\n",
              "      <td>0</td>\n",
              "    </tr>\n",
              "    <tr>\n",
              "      <th>explicit</th>\n",
              "      <td>0</td>\n",
              "    </tr>\n",
              "    <tr>\n",
              "      <th>danceability</th>\n",
              "      <td>0</td>\n",
              "    </tr>\n",
              "    <tr>\n",
              "      <th>energy</th>\n",
              "      <td>0</td>\n",
              "    </tr>\n",
              "    <tr>\n",
              "      <th>key</th>\n",
              "      <td>0</td>\n",
              "    </tr>\n",
              "    <tr>\n",
              "      <th>loudness</th>\n",
              "      <td>0</td>\n",
              "    </tr>\n",
              "    <tr>\n",
              "      <th>mode</th>\n",
              "      <td>0</td>\n",
              "    </tr>\n",
              "    <tr>\n",
              "      <th>speechiness</th>\n",
              "      <td>0</td>\n",
              "    </tr>\n",
              "    <tr>\n",
              "      <th>acousticness</th>\n",
              "      <td>0</td>\n",
              "    </tr>\n",
              "    <tr>\n",
              "      <th>instrumentalness</th>\n",
              "      <td>0</td>\n",
              "    </tr>\n",
              "    <tr>\n",
              "      <th>liveness</th>\n",
              "      <td>0</td>\n",
              "    </tr>\n",
              "    <tr>\n",
              "      <th>valence</th>\n",
              "      <td>0</td>\n",
              "    </tr>\n",
              "    <tr>\n",
              "      <th>tempo</th>\n",
              "      <td>0</td>\n",
              "    </tr>\n",
              "    <tr>\n",
              "      <th>time_signature</th>\n",
              "      <td>0</td>\n",
              "    </tr>\n",
              "    <tr>\n",
              "      <th>track_genre</th>\n",
              "      <td>0</td>\n",
              "    </tr>\n",
              "  </tbody>\n",
              "</table>\n",
              "</div><br><label><b>dtype:</b> int64</label>"
            ]
          },
          "metadata": {},
          "execution_count": 9
        }
      ],
      "source": [
        "df.isnull().sum()\n",
        "# not needed to .dropna() since the columns with null values are dropped in a cell further down"
      ]
    },
    {
      "cell_type": "code",
      "execution_count": null,
      "metadata": {
        "colab": {
          "base_uri": "https://localhost:8080/",
          "height": 742
        },
        "id": "uYx-K1YE94ho",
        "outputId": "317b0bc4-6be3-4214-fd1a-12c2d7d19c4b"
      },
      "outputs": [
        {
          "output_type": "execute_result",
          "data": {
            "text/plain": [
              "Unnamed: 0          114000\n",
              "track_id             89741\n",
              "artists              31437\n",
              "album_name           46589\n",
              "track_name           73608\n",
              "popularity             101\n",
              "duration_ms          50697\n",
              "explicit                 2\n",
              "danceability          1174\n",
              "energy                2083\n",
              "key                     12\n",
              "loudness             19480\n",
              "mode                     2\n",
              "speechiness           1489\n",
              "acousticness          5061\n",
              "instrumentalness      5346\n",
              "liveness              1722\n",
              "valence               1790\n",
              "tempo                45653\n",
              "time_signature           5\n",
              "track_genre            114\n",
              "dtype: int64"
            ],
            "text/html": [
              "<div>\n",
              "<style scoped>\n",
              "    .dataframe tbody tr th:only-of-type {\n",
              "        vertical-align: middle;\n",
              "    }\n",
              "\n",
              "    .dataframe tbody tr th {\n",
              "        vertical-align: top;\n",
              "    }\n",
              "\n",
              "    .dataframe thead th {\n",
              "        text-align: right;\n",
              "    }\n",
              "</style>\n",
              "<table border=\"1\" class=\"dataframe\">\n",
              "  <thead>\n",
              "    <tr style=\"text-align: right;\">\n",
              "      <th></th>\n",
              "      <th>0</th>\n",
              "    </tr>\n",
              "  </thead>\n",
              "  <tbody>\n",
              "    <tr>\n",
              "      <th>Unnamed: 0</th>\n",
              "      <td>114000</td>\n",
              "    </tr>\n",
              "    <tr>\n",
              "      <th>track_id</th>\n",
              "      <td>89741</td>\n",
              "    </tr>\n",
              "    <tr>\n",
              "      <th>artists</th>\n",
              "      <td>31437</td>\n",
              "    </tr>\n",
              "    <tr>\n",
              "      <th>album_name</th>\n",
              "      <td>46589</td>\n",
              "    </tr>\n",
              "    <tr>\n",
              "      <th>track_name</th>\n",
              "      <td>73608</td>\n",
              "    </tr>\n",
              "    <tr>\n",
              "      <th>popularity</th>\n",
              "      <td>101</td>\n",
              "    </tr>\n",
              "    <tr>\n",
              "      <th>duration_ms</th>\n",
              "      <td>50697</td>\n",
              "    </tr>\n",
              "    <tr>\n",
              "      <th>explicit</th>\n",
              "      <td>2</td>\n",
              "    </tr>\n",
              "    <tr>\n",
              "      <th>danceability</th>\n",
              "      <td>1174</td>\n",
              "    </tr>\n",
              "    <tr>\n",
              "      <th>energy</th>\n",
              "      <td>2083</td>\n",
              "    </tr>\n",
              "    <tr>\n",
              "      <th>key</th>\n",
              "      <td>12</td>\n",
              "    </tr>\n",
              "    <tr>\n",
              "      <th>loudness</th>\n",
              "      <td>19480</td>\n",
              "    </tr>\n",
              "    <tr>\n",
              "      <th>mode</th>\n",
              "      <td>2</td>\n",
              "    </tr>\n",
              "    <tr>\n",
              "      <th>speechiness</th>\n",
              "      <td>1489</td>\n",
              "    </tr>\n",
              "    <tr>\n",
              "      <th>acousticness</th>\n",
              "      <td>5061</td>\n",
              "    </tr>\n",
              "    <tr>\n",
              "      <th>instrumentalness</th>\n",
              "      <td>5346</td>\n",
              "    </tr>\n",
              "    <tr>\n",
              "      <th>liveness</th>\n",
              "      <td>1722</td>\n",
              "    </tr>\n",
              "    <tr>\n",
              "      <th>valence</th>\n",
              "      <td>1790</td>\n",
              "    </tr>\n",
              "    <tr>\n",
              "      <th>tempo</th>\n",
              "      <td>45653</td>\n",
              "    </tr>\n",
              "    <tr>\n",
              "      <th>time_signature</th>\n",
              "      <td>5</td>\n",
              "    </tr>\n",
              "    <tr>\n",
              "      <th>track_genre</th>\n",
              "      <td>114</td>\n",
              "    </tr>\n",
              "  </tbody>\n",
              "</table>\n",
              "</div><br><label><b>dtype:</b> int64</label>"
            ]
          },
          "metadata": {},
          "execution_count": 10
        }
      ],
      "source": [
        "df.nunique()"
      ]
    },
    {
      "cell_type": "markdown",
      "metadata": {
        "id": "CXPJslxpZIbO"
      },
      "source": [
        "Because of redundant code, especially with rescaling and redoing everything, to shorten the notebook the columns key, time_signature and mode are removed here, but we found out that they were useless after many trial and error runs. Some explanations\\reflections will be kept."
      ]
    },
    {
      "cell_type": "code",
      "execution_count": null,
      "metadata": {
        "id": "ykxEzHtT-uwa"
      },
      "outputs": [],
      "source": [
        "df_new = df.drop(columns=['Unnamed: 0', 'track_id', 'artists', 'album_name', 'track_name', \"popularity\", \"explicit\", \"key\", \"time_signature\", \"mode\"])\n",
        "# explicit can help detect hip-hop songs, but other than that it will not be useful, thus dropped\n",
        "# popularity does not have anything to do with genre of a song\n",
        "# artists and album names could lead to memorization of pairs : artist:genre; instead of learning the sound\n"
      ]
    },
    {
      "cell_type": "code",
      "execution_count": null,
      "metadata": {
        "colab": {
          "base_uri": "https://localhost:8080/"
        },
        "id": "qbHBewkmBeT-",
        "outputId": "03725b3f-6a17-4bdd-9e3d-6dde6604e64e"
      },
      "outputs": [
        {
          "output_type": "execute_result",
          "data": {
            "text/plain": [
              "Index(['duration_ms', 'danceability', 'energy', 'loudness', 'speechiness',\n",
              "       'acousticness', 'instrumentalness', 'liveness', 'valence', 'tempo',\n",
              "       'track_genre'],\n",
              "      dtype='object')"
            ]
          },
          "metadata": {},
          "execution_count": 12
        }
      ],
      "source": [
        "df_new.columns"
      ]
    },
    {
      "cell_type": "code",
      "execution_count": null,
      "metadata": {
        "colab": {
          "base_uri": "https://localhost:8080/",
          "height": 489
        },
        "id": "tlVQ-rn2C1Cf",
        "outputId": "87f4f870-8d69-42ba-e942-73579f25859a"
      },
      "outputs": [
        {
          "output_type": "execute_result",
          "data": {
            "text/plain": [
              "track_genre\n",
              "acoustic       1000\n",
              "afrobeat       1000\n",
              "alt-rock       1000\n",
              "alternative    1000\n",
              "ambient        1000\n",
              "               ... \n",
              "techno         1000\n",
              "trance         1000\n",
              "trip-hop       1000\n",
              "turkish        1000\n",
              "world-music    1000\n",
              "Name: count, Length: 114, dtype: int64"
            ],
            "text/html": [
              "<div>\n",
              "<style scoped>\n",
              "    .dataframe tbody tr th:only-of-type {\n",
              "        vertical-align: middle;\n",
              "    }\n",
              "\n",
              "    .dataframe tbody tr th {\n",
              "        vertical-align: top;\n",
              "    }\n",
              "\n",
              "    .dataframe thead th {\n",
              "        text-align: right;\n",
              "    }\n",
              "</style>\n",
              "<table border=\"1\" class=\"dataframe\">\n",
              "  <thead>\n",
              "    <tr style=\"text-align: right;\">\n",
              "      <th></th>\n",
              "      <th>count</th>\n",
              "    </tr>\n",
              "    <tr>\n",
              "      <th>track_genre</th>\n",
              "      <th></th>\n",
              "    </tr>\n",
              "  </thead>\n",
              "  <tbody>\n",
              "    <tr>\n",
              "      <th>acoustic</th>\n",
              "      <td>1000</td>\n",
              "    </tr>\n",
              "    <tr>\n",
              "      <th>afrobeat</th>\n",
              "      <td>1000</td>\n",
              "    </tr>\n",
              "    <tr>\n",
              "      <th>alt-rock</th>\n",
              "      <td>1000</td>\n",
              "    </tr>\n",
              "    <tr>\n",
              "      <th>alternative</th>\n",
              "      <td>1000</td>\n",
              "    </tr>\n",
              "    <tr>\n",
              "      <th>ambient</th>\n",
              "      <td>1000</td>\n",
              "    </tr>\n",
              "    <tr>\n",
              "      <th>...</th>\n",
              "      <td>...</td>\n",
              "    </tr>\n",
              "    <tr>\n",
              "      <th>techno</th>\n",
              "      <td>1000</td>\n",
              "    </tr>\n",
              "    <tr>\n",
              "      <th>trance</th>\n",
              "      <td>1000</td>\n",
              "    </tr>\n",
              "    <tr>\n",
              "      <th>trip-hop</th>\n",
              "      <td>1000</td>\n",
              "    </tr>\n",
              "    <tr>\n",
              "      <th>turkish</th>\n",
              "      <td>1000</td>\n",
              "    </tr>\n",
              "    <tr>\n",
              "      <th>world-music</th>\n",
              "      <td>1000</td>\n",
              "    </tr>\n",
              "  </tbody>\n",
              "</table>\n",
              "<p>114 rows × 1 columns</p>\n",
              "</div><br><label><b>dtype:</b> int64</label>"
            ]
          },
          "metadata": {},
          "execution_count": 13
        }
      ],
      "source": [
        "df_new.track_genre.value_counts()"
      ]
    },
    {
      "cell_type": "code",
      "execution_count": null,
      "metadata": {
        "id": "5j_g8WRbbyD7"
      },
      "outputs": [],
      "source": [
        "df_new.rename(columns={'track_genre': 'genre'}, inplace=True)"
      ]
    },
    {
      "cell_type": "markdown",
      "metadata": {
        "id": "kp0tziFhlewY"
      },
      "source": [
        "Histogram\n"
      ]
    },
    {
      "cell_type": "code",
      "execution_count": null,
      "metadata": {
        "colab": {
          "base_uri": "https://localhost:8080/",
          "height": 867
        },
        "id": "fM5MDdiWllKT",
        "outputId": "ed855a95-d493-4c6a-d6bc-8d2b7e036a4d"
      },
      "outputs": [
        {
          "output_type": "execute_result",
          "data": {
            "text/plain": [
              "Text(0, 0.5, 'Frequency')"
            ]
          },
          "metadata": {},
          "execution_count": 15
        },
        {
          "output_type": "display_data",
          "data": {
            "text/plain": [
              "<Figure size 1000x1000 with 4 Axes>"
            ],
            "image/png": "[encoded data removed]"
          },
          "metadata": {}
        }
      ],
      "source": [
        "import matplotlib.pyplot as plt\n",
        "fig, axes = plt.subplots(2, 2, figsize=(10, 10))\n",
        "axes = axes.flatten()\n",
        "\n",
        "axes[0].hist(df_new['danceability'], bins=30, edgecolor='black')\n",
        "axes[1].hist(df_new['energy'], bins=30, edgecolor='black')\n",
        "axes[2].hist(df_new['loudness'], bins=30, edgecolor='black')\n",
        "axes[3].hist(df_new['valence'], bins=30, edgecolor='black')\n",
        "axes[0].set_xlabel('Danceability')\n",
        "axes[1].set_xlabel('Energy')\n",
        "axes[2].set_xlabel('Loudness')\n",
        "axes[3].set_xlabel('Valence')\n",
        "axes[0].set_ylabel('Frequency')\n",
        "# y = frequency\n",
        "# histogram av danceability energy loudness og valency\n",
        "#plt.show()"
      ]
    },
    {
      "cell_type": "markdown",
      "metadata": {
        "id": "bvz0fIoYoCcw"
      },
      "source": [
        "Danceability histogram shows us that most of the songs are songs that one can dance on.\n"
      ]
    },
    {
      "cell_type": "markdown",
      "metadata": {
        "id": "w9sMyY_CDYAL"
      },
      "source": [
        "Correlation Matrix"
      ]
    },
    {
      "cell_type": "code",
      "execution_count": null,
      "metadata": {
        "colab": {
          "base_uri": "https://localhost:8080/",
          "height": 767
        },
        "id": "KIFSQY8cs9PS",
        "outputId": "a34ad6b4-a9e7-4ceb-e99b-894269084914"
      },
      "outputs": [
        {
          "output_type": "display_data",
          "data": {
            "text/plain": [
              "<Figure size 1600x1000 with 2 Axes>"
            ],
            "image/png": "[encoded data removed]"
          },
          "metadata": {}
        }
      ],
      "source": [
        "import seaborn as sns\n",
        "\n",
        "corr = df_new.corr(numeric_only=True)\n",
        "plt.figure(figsize=(16, 10))\n",
        "sns.heatmap(corr, annot=True, fmt=\".2f\")\n",
        "plt.title(\"Feature Correlation Matrix\", fontsize=18)\n",
        "#plt.tight_layout()\n",
        "plt.show()"
      ]
    },
    {
      "cell_type": "markdown",
      "metadata": {
        "id": "ds0HfYIrvbNZ"
      },
      "source": [
        "high correlation between energy and loudness\n",
        "\n",
        "high inverse correlation between energy and acousticness"
      ]
    },
    {
      "cell_type": "markdown",
      "metadata": {
        "id": "J8Ex-rREU1bb"
      },
      "source": [
        "##  2.3 Cleaning and preparation of data"
      ]
    },
    {
      "cell_type": "markdown",
      "metadata": {
        "id": "8RHMzHLmUlEP"
      },
      "source": [
        "According to chatGPT 114 genres is an overkill for such a project. One should reduce the genres to main genres."
      ]
    },
    {
      "cell_type": "markdown",
      "metadata": {
        "id": "Jz6ZsVqDWJpi"
      },
      "source": [
        "A google search of main music genres gives the following output:\n",
        "Country, Hip-Hop, Jazz, Rock, Classical music, Electronic, Folk, Soul music, Blues, Latin music, Reggae, Electronic dance music, Funk, Music of Latin America, New-age music, Pop, Pop music, Religious music. Total:18.\n",
        "\n",
        "We will have to cut them even further, as even commerical systems like Spotify struggle to reliably separate so many genres just from acoustic features."
      ]
    },
    {
      "cell_type": "markdown",
      "metadata": {
        "id": "-pN-De4sYUeb"
      },
      "source": [
        "Selection: Pop, Rock, Hip-Hop, Electronic, RnB, Jazz, Classical, Country, Folk, Reggae\n",
        "\n",
        "Genres to consider:\n",
        "1. Metal is a subgenre of rock music\n",
        "3. Latin contains numerous genres and subgenres, rather than being a single genre itself. Exampleas are salsa, reggaeton, bachata, etc...\n",
        "4. dance: broad category and a main genre, EDM\n",
        "5. disco: both main and subgenre of pop\n",
        "6. house: both main and subgenre of music, EDM\n",
        "7. punk: both main and subgenre of rock"
      ]
    },
    {
      "cell_type": "code",
      "execution_count": null,
      "metadata": {
        "colab": {
          "base_uri": "https://localhost:8080/"
        },
        "collapsed": true,
        "id": "EA5-yQqJVcY_",
        "outputId": "35882909-b2da-45d9-f441-b61741c1c604"
      },
      "outputs": [
        {
          "output_type": "execute_result",
          "data": {
            "text/plain": [
              "['acoustic',\n",
              " 'afrobeat',\n",
              " 'alt-rock',\n",
              " 'alternative',\n",
              " 'ambient',\n",
              " 'anime',\n",
              " 'black-metal',\n",
              " 'bluegrass',\n",
              " 'blues',\n",
              " 'brazil',\n",
              " 'breakbeat',\n",
              " 'british',\n",
              " 'cantopop',\n",
              " 'chicago-house',\n",
              " 'children',\n",
              " 'chill',\n",
              " 'classical',\n",
              " 'club',\n",
              " 'comedy',\n",
              " 'country',\n",
              " 'dance',\n",
              " 'dancehall',\n",
              " 'death-metal',\n",
              " 'deep-house',\n",
              " 'detroit-techno',\n",
              " 'disco',\n",
              " 'disney',\n",
              " 'drum-and-bass',\n",
              " 'dub',\n",
              " 'dubstep',\n",
              " 'edm',\n",
              " 'electro',\n",
              " 'electronic',\n",
              " 'emo',\n",
              " 'folk',\n",
              " 'forro',\n",
              " 'french',\n",
              " 'funk',\n",
              " 'garage',\n",
              " 'german',\n",
              " 'gospel',\n",
              " 'goth',\n",
              " 'grindcore',\n",
              " 'groove',\n",
              " 'grunge',\n",
              " 'guitar',\n",
              " 'happy',\n",
              " 'hard-rock',\n",
              " 'hardcore',\n",
              " 'hardstyle',\n",
              " 'heavy-metal',\n",
              " 'hip-hop',\n",
              " 'honky-tonk',\n",
              " 'house',\n",
              " 'idm',\n",
              " 'indian',\n",
              " 'indie',\n",
              " 'indie-pop',\n",
              " 'industrial',\n",
              " 'iranian',\n",
              " 'j-dance',\n",
              " 'j-idol',\n",
              " 'j-pop',\n",
              " 'j-rock',\n",
              " 'jazz',\n",
              " 'k-pop',\n",
              " 'kids',\n",
              " 'latin',\n",
              " 'latino',\n",
              " 'malay',\n",
              " 'mandopop',\n",
              " 'metal',\n",
              " 'metalcore',\n",
              " 'minimal-techno',\n",
              " 'mpb',\n",
              " 'new-age',\n",
              " 'opera',\n",
              " 'pagode',\n",
              " 'party',\n",
              " 'piano',\n",
              " 'pop',\n",
              " 'pop-film',\n",
              " 'power-pop',\n",
              " 'progressive-house',\n",
              " 'psych-rock',\n",
              " 'punk',\n",
              " 'punk-rock',\n",
              " 'r-n-b',\n",
              " 'reggae',\n",
              " 'reggaeton',\n",
              " 'rock',\n",
              " 'rock-n-roll',\n",
              " 'rockabilly',\n",
              " 'romance',\n",
              " 'sad',\n",
              " 'salsa',\n",
              " 'samba',\n",
              " 'sertanejo',\n",
              " 'show-tunes',\n",
              " 'singer-songwriter',\n",
              " 'ska',\n",
              " 'sleep',\n",
              " 'songwriter',\n",
              " 'soul',\n",
              " 'spanish',\n",
              " 'study',\n",
              " 'swedish',\n",
              " 'synth-pop',\n",
              " 'tango',\n",
              " 'techno',\n",
              " 'trance',\n",
              " 'trip-hop',\n",
              " 'turkish',\n",
              " 'world-music']"
            ]
          },
          "metadata": {},
          "execution_count": 17
        }
      ],
      "source": [
        "sorted(df_new[\"genre\"].unique())"
      ]
    },
    {
      "cell_type": "markdown",
      "metadata": {
        "id": "JprD78z5gJvn"
      },
      "source": [
        "1. Keep most of the songs, but merge genres\n",
        "- con is imbalance of classes, creating biased models. adjust to 1k each main genre with random sample\n",
        "- synthetically generate small-class samples, con is overfitting\n",
        "- class_weight=balanced(rf, lr, SVM), still not magic if the class is extremely small\n",
        "- Hybrid opton: limit the largest classes to be no more than x5 the smallest + class_weight=\"balanced\" + random samples\n",
        "2. Keep only songs from the chosen genres\n",
        "3. best of both worlds, accuracy + speed\n",
        "\n",
        "Delete some genres, rest:\n",
        "- Merge -> Downsample:\n",
        "Complex, high-volume genres like rock and electronic, which encompass many subgenres will benefit from having more samples to capture their diversity.\n",
        "\n"
      ]
    },
    {
      "cell_type": "code",
      "execution_count": null,
      "metadata": {
        "id": "qBRIG12Gi6rz"
      },
      "outputs": [],
      "source": [
        "#Pop, Rock, Hip-Hop, Electronic, RnB,\n",
        "#Jazz, Classical, Country, Folk, Reggae\n",
        "genre_grouping = {\n",
        "    # Pop\n",
        "    'cantopop': 'pop', 'j-pop': 'pop', 'k-pop': 'pop',\n",
        "    'pop-film': 'pop', 'pop': 'pop', 'mandopop': 'pop',\n",
        "\n",
        "    # Rock\n",
        "    'alt-rock': 'rock', 'alternative': 'rock', 'hard-rock': 'rock',\n",
        "    'grunge': 'rock', 'metal': 'rock', 'metalcore': 'rock',\n",
        "    'emo': 'rock', 'punk': 'rock', 'j-rock': 'rock', 'heavy-metal': 'rock',\n",
        "\n",
        "    #Hip-Hop\n",
        "    'hip-hop': 'hip-hop',\n",
        "\n",
        "    #Electronic\n",
        "    'ambient': 'electronic', 'breakbeat': 'electronic', 'chill': 'electronic',\n",
        "    'club': 'electronic', 'house': 'electronic', 'techno': 'electronic',\n",
        "    'edm': 'electronic', 'dubstep': 'electronic', 'trance': 'electronic',\n",
        "\n",
        "    #RnB\n",
        "    'r-n-b': 'r-n-b', 'soul': 'r-n-b',\n",
        "\n",
        "    #Jazz\n",
        "    'jazz': 'jazz', 'blues': 'jazz',\n",
        "\n",
        "    #Classical\n",
        "    'classical': 'classical', 'opera': 'classical', 'tango': 'classical',\n",
        "\n",
        "    #Country\n",
        "    'country': 'country', 'honky-tonk': 'country', 'sertanejo': 'country',\n",
        "\n",
        "    #Folk\n",
        "    'folk': 'folk', 'acoustic': 'folk', 'singer-songwriter': 'folk',\n",
        "    'songwriter': 'folk', 'bluegrass': 'folk',\n",
        "\n",
        "    #Reggae\n",
        "    'reggae': 'reggae', 'reggaeton': 'reggae', 'dancehall': 'reggae',\n",
        "    'ska': 'reggae'\n",
        "}\n",
        "\n"
      ]
    },
    {
      "cell_type": "code",
      "execution_count": null,
      "metadata": {
        "id": "WZyhFhTx1gPj"
      },
      "outputs": [],
      "source": [
        "original_genres = df_new['genre'].unique()\n",
        "final_mapping = genre_grouping.copy()\n",
        "merged_genres = set(genre_grouping.keys())\n",
        "\n",
        "for genre in original_genres:\n",
        "    if genre not in merged_genres:\n",
        "        final_mapping[genre] = \"DELETE\"\n",
        "# each genre that is not mapped\\grouped will be tagged with DELETE"
      ]
    },
    {
      "cell_type": "code",
      "execution_count": null,
      "metadata": {
        "id": "F-2GGx_L1K3d"
      },
      "outputs": [],
      "source": [
        "# applying the mapping\n",
        "\n",
        "#apply the final mapping to create the new column called target\n",
        "df_new[\"target\"] = df_new[\"genre\"].map(final_mapping)\n",
        "\n",
        "# filter out the rest\n",
        "df_filtered = df_new[df_new[\"target\"] != \"DELETE\"].copy()"
      ]
    },
    {
      "cell_type": "code",
      "execution_count": null,
      "metadata": {
        "id": "XuPUGcYD4TyT"
      },
      "outputs": [],
      "source": [
        "df_filtered.drop(columns=[\"genre\"], inplace=True)\n",
        "#.info()"
      ]
    },
    {
      "cell_type": "code",
      "execution_count": null,
      "metadata": {
        "id": "SRP6Tzsa6LqQ"
      },
      "outputs": [],
      "source": [
        "df_filtered.reset_index(drop=True, inplace=True)\n",
        "#.head(-20)"
      ]
    },
    {
      "cell_type": "code",
      "execution_count": null,
      "metadata": {
        "id": "RF_UbEiE6p8r"
      },
      "outputs": [],
      "source": [
        "#downsampling up to 5x 5:1 ratio, REMEMBER hyperparam class_weight=\"balanced\"\n",
        "genre_counts = df_filtered[\"target\"].value_counts()\n",
        "# min=1000 ` new max is 5k, previous was 10k\n",
        "sizeMin = genre_counts.min()\n",
        "sizeMax = sizeMin * 5\n",
        "\n",
        "final_samples = []\n",
        "\n",
        "for genre, count in genre_counts.items():\n",
        "  genre_data = df_filtered[df_filtered[\"target\"] == genre]\n",
        "\n",
        "# if a genre has over 5x songs than the genre with the least amount of songs,\n",
        "# downsample with random sampling,\n",
        "# else do not touch\n",
        "  if count > sizeMax:\n",
        "    # pick random rows but reproducible (seed)\n",
        "    sampled_data = genre_data.sample(n=sizeMax, random_state=42)\n",
        "  else:\n",
        "    sampled_data = genre_data\n",
        "\n",
        "  final_samples.append(sampled_data)\n",
        "\n",
        "#combine, ignore_index deals with duplicate index values and reindexes: 0 to N-1\n",
        "df_final = pd.concat(final_samples, ignore_index=True)\n"
      ]
    },
    {
      "cell_type": "code",
      "execution_count": null,
      "metadata": {
        "colab": {
          "base_uri": "https://localhost:8080/"
        },
        "id": "GjPRQi8i_z-V",
        "outputId": "48d982ac-a07e-4e27-be7d-b7d50bb1be0e"
      },
      "outputs": [
        {
          "output_type": "execute_result",
          "data": {
            "text/plain": [
              "(35000, 11)"
            ]
          },
          "metadata": {},
          "execution_count": 24
        }
      ],
      "source": [
        "df_final.shape\n",
        "#class_weight=\"balanced\"\n"
      ]
    },
    {
      "cell_type": "code",
      "execution_count": null,
      "metadata": {
        "id": "fwp46EzyVNXH"
      },
      "outputs": [],
      "source": [
        "from sklearn.model_selection import train_test_split\n",
        "from sklearn.linear_model import LogisticRegression\n",
        "from sklearn.metrics import classification_report\n",
        "\n",
        "X = df_final.drop(columns=[\"target\"])\n",
        "y = df_final[\"target\"]\n",
        "\n",
        "#test split at 20%\n",
        "X_temp, X_test, y_temp, y_test = train_test_split(X, y,\n",
        "                                                  test_size=0.2,\n",
        "                                                  random_state=42,\n",
        "# preserve the proportions of classes (important for balancing the 5:1 ratio)\n",
        "                                                  stratify=y\n",
        "                                                  )\n",
        "#validation split which is 25% of the training set\n",
        "X_train, X_val, y_train, y_val = train_test_split(X_temp, y_temp,\n",
        "                                                  test_size=0.25,\n",
        "                                                  random_state=42,\n",
        "                                                  stratify=y_temp\n",
        "                                                  )\n"
      ]
    },
    {
      "cell_type": "code",
      "execution_count": null,
      "metadata": {
        "id": "Z3U1bLhofNw0"
      },
      "outputs": [],
      "source": [
        "# labels must be encoded to integers\n",
        "from sklearn.preprocessing import LabelEncoder\n",
        "le = LabelEncoder()\n",
        "y_train_encoded = le.fit_transform(y_train)\n",
        "y_val_encoded = le.transform(y_val)\n",
        "y_test_encoded = le.transform(y_test)"
      ]
    },
    {
      "cell_type": "markdown",
      "metadata": {
        "id": "mm8t3-4sjhPb"
      },
      "source": [
        "## 2.4 Scaling"
      ]
    },
    {
      "cell_type": "code",
      "execution_count": null,
      "metadata": {
        "id": "fnW9gNdvjpIF"
      },
      "outputs": [],
      "source": [
        "from sklearn.preprocessing import StandardScaler\n",
        "# x train, x val, x test\n",
        "# duration values are in the tens and hundresds of thousands while other features are between 0 and 1\n",
        "# Models that rely on gradient descent are sensitive to feature magnitude\n",
        "scaler = StandardScaler()\n",
        "X_train_scaled = scaler.fit_transform(X_train)\n",
        "X_val_scaled = scaler.transform(X_val)\n",
        "X_test_scaled = scaler.transform(X_test)"
      ]
    },
    {
      "cell_type": "markdown",
      "metadata": {
        "id": "c_1VU9yLklA1"
      },
      "source": [
        "# 3. Base Model"
      ]
    },
    {
      "cell_type": "markdown",
      "metadata": {
        "id": "xyoLPxd3mBBG"
      },
      "source": [
        "We will use LogisticRegression as out base model."
      ]
    },
    {
      "cell_type": "markdown",
      "metadata": {
        "id": "i-kPHyvMlVpO"
      },
      "source": [
        "## 3.0 Logistic Regression"
      ]
    },
    {
      "cell_type": "code",
      "execution_count": null,
      "metadata": {
        "colab": {
          "base_uri": "https://localhost:8080/",
          "height": 152
        },
        "id": "jc0UmYqvl7Pi",
        "outputId": "e6fb548d-713d-45e8-cbb7-24c1760bbf7f"
      },
      "outputs": [
        {
          "output_type": "stream",
          "name": "stderr",
          "text": [
            "/usr/local/lib/python3.12/dist-packages/sklearn/linear_model/_logistic.py:1271: UserWarning: 'n_jobs' > 1 does not have any effect when 'solver' is set to 'liblinear'. Got 'n_jobs' = 2.\n",
            "  warnings.warn(\n"
          ]
        },
        {
          "output_type": "execute_result",
          "data": {
            "text/plain": [
              "LogisticRegression(class_weight='balanced', max_iter=1000, n_jobs=-1,\n",
              "                   random_state=42, solver='liblinear')"
            ],
            "text/html": [
              "<style>#sk-container-id-1 {\n",
              "  /* Definition of color scheme common for light and dark mode */\n",
              "  --sklearn-color-text: #000;\n",
              "  --sklearn-color-text-muted: #666;\n",
              "  --sklearn-color-line: gray;\n",
              "  /* Definition of color scheme for unfitted estimators */\n",
              "  --sklearn-color-unfitted-level-0: #fff5e6;\n",
              "  --sklearn-color-unfitted-level-1: #f6e4d2;\n",
              "  --sklearn-color-unfitted-level-2: #ffe0b3;\n",
              "  --sklearn-color-unfitted-level-3: chocolate;\n",
              "  /* Definition of color scheme for fitted estimators */\n",
              "  --sklearn-color-fitted-level-0: #f0f8ff;\n",
              "  --sklearn-color-fitted-level-1: #d4ebff;\n",
              "  --sklearn-color-fitted-level-2: #b3dbfd;\n",
              "  --sklearn-color-fitted-level-3: cornflowerblue;\n",
              "\n",
              "  /* Specific color for light theme */\n",
              "  --sklearn-color-text-on-default-background: var(--sg-text-color, var(--theme-code-foreground, var(--jp-content-font-color1, black)));\n",
              "  --sklearn-color-background: var(--sg-background-color, var(--theme-background, var(--jp-layout-color0, white)));\n",
              "  --sklearn-color-border-box: var(--sg-text-color, var(--theme-code-foreground, var(--jp-content-font-color1, black)));\n",
              "  --sklearn-color-icon: #696969;\n",
              "\n",
              "  @media (prefers-color-scheme: dark) {\n",
              "    /* Redefinition of color scheme for dark theme */\n",
              "    --sklearn-color-text-on-default-background: var(--sg-text-color, var(--theme-code-foreground, var(--jp-content-font-color1, white)));\n",
              "    --sklearn-color-background: var(--sg-background-color, var(--theme-background, var(--jp-layout-color0, #111)));\n",
              "    --sklearn-color-border-box: var(--sg-text-color, var(--theme-code-foreground, var(--jp-content-font-color1, white)));\n",
              "    --sklearn-color-icon: #878787;\n",
              "  }\n",
              "}\n",
              "\n",
              "#sk-container-id-1 {\n",
              "  color: var(--sklearn-color-text);\n",
              "}\n",
              "\n",
              "#sk-container-id-1 pre {\n",
              "  padding: 0;\n",
              "}\n",
              "\n",
              "#sk-container-id-1 input.sk-hidden--visually {\n",
              "  border: 0;\n",
              "  clip: rect(1px 1px 1px 1px);\n",
              "  clip: rect(1px, 1px, 1px, 1px);\n",
              "  height: 1px;\n",
              "  margin: -1px;\n",
              "  overflow: hidden;\n",
              "  padding: 0;\n",
              "  position: absolute;\n",
              "  width: 1px;\n",
              "}\n",
              "\n",
              "#sk-container-id-1 div.sk-dashed-wrapped {\n",
              "  border: 1px dashed var(--sklearn-color-line);\n",
              "  margin: 0 0.4em 0.5em 0.4em;\n",
              "  box-sizing: border-box;\n",
              "  padding-bottom: 0.4em;\n",
              "  background-color: var(--sklearn-color-background);\n",
              "}\n",
              "\n",
              "#sk-container-id-1 div.sk-container {\n",
              "  /* jupyter's `normalize.less` sets `[hidden] { display: none; }`\n",
              "     but bootstrap.min.css set `[hidden] { display: none !important; }`\n",
              "     so we also need the `!important` here to be able to override the\n",
              "     default hidden behavior on the sphinx rendered scikit-learn.org.\n",
              "     See: https://github.com/scikit-learn/scikit-learn/issues/21755 */\n",
              "  display: inline-block !important;\n",
              "  position: relative;\n",
              "}\n",
              "\n",
              "#sk-container-id-1 div.sk-text-repr-fallback {\n",
              "  display: none;\n",
              "}\n",
              "\n",
              "div.sk-parallel-item,\n",
              "div.sk-serial,\n",
              "div.sk-item {\n",
              "  /* draw centered vertical line to link estimators */\n",
              "  background-image: linear-gradient(var(--sklearn-color-text-on-default-background), var(--sklearn-color-text-on-default-background));\n",
              "  background-size: 2px 100%;\n",
              "  background-repeat: no-repeat;\n",
              "  background-position: center center;\n",
              "}\n",
              "\n",
              "/* Parallel-specific style estimator block */\n",
              "\n",
              "#sk-container-id-1 div.sk-parallel-item::after {\n",
              "  content: \"\";\n",
              "  width: 100%;\n",
              "  border-bottom: 2px solid var(--sklearn-color-text-on-default-background);\n",
              "  flex-grow: 1;\n",
              "}\n",
              "\n",
              "#sk-container-id-1 div.sk-parallel {\n",
              "  display: flex;\n",
              "  align-items: stretch;\n",
              "  justify-content: center;\n",
              "  background-color: var(--sklearn-color-background);\n",
              "  position: relative;\n",
              "}\n",
              "\n",
              "#sk-container-id-1 div.sk-parallel-item {\n",
              "  display: flex;\n",
              "  flex-direction: column;\n",
              "}\n",
              "\n",
              "#sk-container-id-1 div.sk-parallel-item:first-child::after {\n",
              "  align-self: flex-end;\n",
              "  width: 50%;\n",
              "}\n",
              "\n",
              "#sk-container-id-1 div.sk-parallel-item:last-child::after {\n",
              "  align-self: flex-start;\n",
              "  width: 50%;\n",
              "}\n",
              "\n",
              "#sk-container-id-1 div.sk-parallel-item:only-child::after {\n",
              "  width: 0;\n",
              "}\n",
              "\n",
              "/* Serial-specific style estimator block */\n",
              "\n",
              "#sk-container-id-1 div.sk-serial {\n",
              "  display: flex;\n",
              "  flex-direction: column;\n",
              "  align-items: center;\n",
              "  background-color: var(--sklearn-color-background);\n",
              "  padding-right: 1em;\n",
              "  padding-left: 1em;\n",
              "}\n",
              "\n",
              "\n",
              "/* Toggleable style: style used for estimator/Pipeline/ColumnTransformer box that is\n",
              "clickable and can be expanded/collapsed.\n",
              "- Pipeline and ColumnTransformer use this feature and define the default style\n",
              "- Estimators will overwrite some part of the style using the `sk-estimator` class\n",
              "*/\n",
              "\n",
              "/* Pipeline and ColumnTransformer style (default) */\n",
              "\n",
              "#sk-container-id-1 div.sk-toggleable {\n",
              "  /* Default theme specific background. It is overwritten whether we have a\n",
              "  specific estimator or a Pipeline/ColumnTransformer */\n",
              "  background-color: var(--sklearn-color-background);\n",
              "}\n",
              "\n",
              "/* Toggleable label */\n",
              "#sk-container-id-1 label.sk-toggleable__label {\n",
              "  cursor: pointer;\n",
              "  display: flex;\n",
              "  width: 100%;\n",
              "  margin-bottom: 0;\n",
              "  padding: 0.5em;\n",
              "  box-sizing: border-box;\n",
              "  text-align: center;\n",
              "  align-items: start;\n",
              "  justify-content: space-between;\n",
              "  gap: 0.5em;\n",
              "}\n",
              "\n",
              "#sk-container-id-1 label.sk-toggleable__label .caption {\n",
              "  font-size: 0.6rem;\n",
              "  font-weight: lighter;\n",
              "  color: var(--sklearn-color-text-muted);\n",
              "}\n",
              "\n",
              "#sk-container-id-1 label.sk-toggleable__label-arrow:before {\n",
              "  /* Arrow on the left of the label */\n",
              "  content: \"▸\";\n",
              "  float: left;\n",
              "  margin-right: 0.25em;\n",
              "  color: var(--sklearn-color-icon);\n",
              "}\n",
              "\n",
              "#sk-container-id-1 label.sk-toggleable__label-arrow:hover:before {\n",
              "  color: var(--sklearn-color-text);\n",
              "}\n",
              "\n",
              "/* Toggleable content - dropdown */\n",
              "\n",
              "#sk-container-id-1 div.sk-toggleable__content {\n",
              "  max-height: 0;\n",
              "  max-width: 0;\n",
              "  overflow: hidden;\n",
              "  text-align: left;\n",
              "  /* unfitted */\n",
              "  background-color: var(--sklearn-color-unfitted-level-0);\n",
              "}\n",
              "\n",
              "#sk-container-id-1 div.sk-toggleable__content.fitted {\n",
              "  /* fitted */\n",
              "  background-color: var(--sklearn-color-fitted-level-0);\n",
              "}\n",
              "\n",
              "#sk-container-id-1 div.sk-toggleable__content pre {\n",
              "  margin: 0.2em;\n",
              "  border-radius: 0.25em;\n",
              "  color: var(--sklearn-color-text);\n",
              "  /* unfitted */\n",
              "  background-color: var(--sklearn-color-unfitted-level-0);\n",
              "}\n",
              "\n",
              "#sk-container-id-1 div.sk-toggleable__content.fitted pre {\n",
              "  /* unfitted */\n",
              "  background-color: var(--sklearn-color-fitted-level-0);\n",
              "}\n",
              "\n",
              "#sk-container-id-1 input.sk-toggleable__control:checked~div.sk-toggleable__content {\n",
              "  /* Expand drop-down */\n",
              "  max-height: 200px;\n",
              "  max-width: 100%;\n",
              "  overflow: auto;\n",
              "}\n",
              "\n",
              "#sk-container-id-1 input.sk-toggleable__control:checked~label.sk-toggleable__label-arrow:before {\n",
              "  content: \"▾\";\n",
              "}\n",
              "\n",
              "/* Pipeline/ColumnTransformer-specific style */\n",
              "\n",
              "#sk-container-id-1 div.sk-label input.sk-toggleable__control:checked~label.sk-toggleable__label {\n",
              "  color: var(--sklearn-color-text);\n",
              "  background-color: var(--sklearn-color-unfitted-level-2);\n",
              "}\n",
              "\n",
              "#sk-container-id-1 div.sk-label.fitted input.sk-toggleable__control:checked~label.sk-toggleable__label {\n",
              "  background-color: var(--sklearn-color-fitted-level-2);\n",
              "}\n",
              "\n",
              "/* Estimator-specific style */\n",
              "\n",
              "/* Colorize estimator box */\n",
              "#sk-container-id-1 div.sk-estimator input.sk-toggleable__control:checked~label.sk-toggleable__label {\n",
              "  /* unfitted */\n",
              "  background-color: var(--sklearn-color-unfitted-level-2);\n",
              "}\n",
              "\n",
              "#sk-container-id-1 div.sk-estimator.fitted input.sk-toggleable__control:checked~label.sk-toggleable__label {\n",
              "  /* fitted */\n",
              "  background-color: var(--sklearn-color-fitted-level-2);\n",
              "}\n",
              "\n",
              "#sk-container-id-1 div.sk-label label.sk-toggleable__label,\n",
              "#sk-container-id-1 div.sk-label label {\n",
              "  /* The background is the default theme color */\n",
              "  color: var(--sklearn-color-text-on-default-background);\n",
              "}\n",
              "\n",
              "/* On hover, darken the color of the background */\n",
              "#sk-container-id-1 div.sk-label:hover label.sk-toggleable__label {\n",
              "  color: var(--sklearn-color-text);\n",
              "  background-color: var(--sklearn-color-unfitted-level-2);\n",
              "}\n",
              "\n",
              "/* Label box, darken color on hover, fitted */\n",
              "#sk-container-id-1 div.sk-label.fitted:hover label.sk-toggleable__label.fitted {\n",
              "  color: var(--sklearn-color-text);\n",
              "  background-color: var(--sklearn-color-fitted-level-2);\n",
              "}\n",
              "\n",
              "/* Estimator label */\n",
              "\n",
              "#sk-container-id-1 div.sk-label label {\n",
              "  font-family: monospace;\n",
              "  font-weight: bold;\n",
              "  display: inline-block;\n",
              "  line-height: 1.2em;\n",
              "}\n",
              "\n",
              "#sk-container-id-1 div.sk-label-container {\n",
              "  text-align: center;\n",
              "}\n",
              "\n",
              "/* Estimator-specific */\n",
              "#sk-container-id-1 div.sk-estimator {\n",
              "  font-family: monospace;\n",
              "  border: 1px dotted var(--sklearn-color-border-box);\n",
              "  border-radius: 0.25em;\n",
              "  box-sizing: border-box;\n",
              "  margin-bottom: 0.5em;\n",
              "  /* unfitted */\n",
              "  background-color: var(--sklearn-color-unfitted-level-0);\n",
              "}\n",
              "\n",
              "#sk-container-id-1 div.sk-estimator.fitted {\n",
              "  /* fitted */\n",
              "  background-color: var(--sklearn-color-fitted-level-0);\n",
              "}\n",
              "\n",
              "/* on hover */\n",
              "#sk-container-id-1 div.sk-estimator:hover {\n",
              "  /* unfitted */\n",
              "  background-color: var(--sklearn-color-unfitted-level-2);\n",
              "}\n",
              "\n",
              "#sk-container-id-1 div.sk-estimator.fitted:hover {\n",
              "  /* fitted */\n",
              "  background-color: var(--sklearn-color-fitted-level-2);\n",
              "}\n",
              "\n",
              "/* Specification for estimator info (e.g. \"i\" and \"?\") */\n",
              "\n",
              "/* Common style for \"i\" and \"?\" */\n",
              "\n",
              ".sk-estimator-doc-link,\n",
              "a:link.sk-estimator-doc-link,\n",
              "a:visited.sk-estimator-doc-link {\n",
              "  float: right;\n",
              "  font-size: smaller;\n",
              "  line-height: 1em;\n",
              "  font-family: monospace;\n",
              "  background-color: var(--sklearn-color-background);\n",
              "  border-radius: 1em;\n",
              "  height: 1em;\n",
              "  width: 1em;\n",
              "  text-decoration: none !important;\n",
              "  margin-left: 0.5em;\n",
              "  text-align: center;\n",
              "  /* unfitted */\n",
              "  border: var(--sklearn-color-unfitted-level-1) 1pt solid;\n",
              "  color: var(--sklearn-color-unfitted-level-1);\n",
              "}\n",
              "\n",
              ".sk-estimator-doc-link.fitted,\n",
              "a:link.sk-estimator-doc-link.fitted,\n",
              "a:visited.sk-estimator-doc-link.fitted {\n",
              "  /* fitted */\n",
              "  border: var(--sklearn-color-fitted-level-1) 1pt solid;\n",
              "  color: var(--sklearn-color-fitted-level-1);\n",
              "}\n",
              "\n",
              "/* On hover */\n",
              "div.sk-estimator:hover .sk-estimator-doc-link:hover,\n",
              ".sk-estimator-doc-link:hover,\n",
              "div.sk-label-container:hover .sk-estimator-doc-link:hover,\n",
              ".sk-estimator-doc-link:hover {\n",
              "  /* unfitted */\n",
              "  background-color: var(--sklearn-color-unfitted-level-3);\n",
              "  color: var(--sklearn-color-background);\n",
              "  text-decoration: none;\n",
              "}\n",
              "\n",
              "div.sk-estimator.fitted:hover .sk-estimator-doc-link.fitted:hover,\n",
              ".sk-estimator-doc-link.fitted:hover,\n",
              "div.sk-label-container:hover .sk-estimator-doc-link.fitted:hover,\n",
              ".sk-estimator-doc-link.fitted:hover {\n",
              "  /* fitted */\n",
              "  background-color: var(--sklearn-color-fitted-level-3);\n",
              "  color: var(--sklearn-color-background);\n",
              "  text-decoration: none;\n",
              "}\n",
              "\n",
              "/* Span, style for the box shown on hovering the info icon */\n",
              ".sk-estimator-doc-link span {\n",
              "  display: none;\n",
              "  z-index: 9999;\n",
              "  position: relative;\n",
              "  font-weight: normal;\n",
              "  right: .2ex;\n",
              "  padding: .5ex;\n",
              "  margin: .5ex;\n",
              "  width: min-content;\n",
              "  min-width: 20ex;\n",
              "  max-width: 50ex;\n",
              "  color: var(--sklearn-color-text);\n",
              "  box-shadow: 2pt 2pt 4pt #999;\n",
              "  /* unfitted */\n",
              "  background: var(--sklearn-color-unfitted-level-0);\n",
              "  border: .5pt solid var(--sklearn-color-unfitted-level-3);\n",
              "}\n",
              "\n",
              ".sk-estimator-doc-link.fitted span {\n",
              "  /* fitted */\n",
              "  background: var(--sklearn-color-fitted-level-0);\n",
              "  border: var(--sklearn-color-fitted-level-3);\n",
              "}\n",
              "\n",
              ".sk-estimator-doc-link:hover span {\n",
              "  display: block;\n",
              "}\n",
              "\n",
              "/* \"?\"-specific style due to the `<a>` HTML tag */\n",
              "\n",
              "#sk-container-id-1 a.estimator_doc_link {\n",
              "  float: right;\n",
              "  font-size: 1rem;\n",
              "  line-height: 1em;\n",
              "  font-family: monospace;\n",
              "  background-color: var(--sklearn-color-background);\n",
              "  border-radius: 1rem;\n",
              "  height: 1rem;\n",
              "  width: 1rem;\n",
              "  text-decoration: none;\n",
              "  /* unfitted */\n",
              "  color: var(--sklearn-color-unfitted-level-1);\n",
              "  border: var(--sklearn-color-unfitted-level-1) 1pt solid;\n",
              "}\n",
              "\n",
              "#sk-container-id-1 a.estimator_doc_link.fitted {\n",
              "  /* fitted */\n",
              "  border: var(--sklearn-color-fitted-level-1) 1pt solid;\n",
              "  color: var(--sklearn-color-fitted-level-1);\n",
              "}\n",
              "\n",
              "/* On hover */\n",
              "#sk-container-id-1 a.estimator_doc_link:hover {\n",
              "  /* unfitted */\n",
              "  background-color: var(--sklearn-color-unfitted-level-3);\n",
              "  color: var(--sklearn-color-background);\n",
              "  text-decoration: none;\n",
              "}\n",
              "\n",
              "#sk-container-id-1 a.estimator_doc_link.fitted:hover {\n",
              "  /* fitted */\n",
              "  background-color: var(--sklearn-color-fitted-level-3);\n",
              "}\n",
              "</style><div id=\"sk-container-id-1\" class=\"sk-top-container\"><div class=\"sk-text-repr-fallback\"><pre>LogisticRegression(class_weight=&#x27;balanced&#x27;, max_iter=1000, n_jobs=-1,\n",
              "                   random_state=42, solver=&#x27;liblinear&#x27;)</pre><b>In a Jupyter environment, please rerun this cell to show the HTML representation or trust the notebook. <br />On GitHub, the HTML representation is unable to render, please try loading this page with nbviewer.org.</b></div><div class=\"sk-container\" hidden><div class=\"sk-item\"><div class=\"sk-estimator fitted sk-toggleable\"><input class=\"sk-toggleable__control sk-hidden--visually\" id=\"sk-estimator-id-1\" type=\"checkbox\" checked><label for=\"sk-estimator-id-1\" class=\"sk-toggleable__label fitted sk-toggleable__label-arrow\"><div><div>LogisticRegression</div></div><div><a class=\"sk-estimator-doc-link fitted\" rel=\"noreferrer\" target=\"_blank\" href=\"https://scikit-learn.org/1.6/modules/generated/sklearn.linear_model.LogisticRegression.html\">?<span>Documentation for LogisticRegression</span></a><span class=\"sk-estimator-doc-link fitted\">i<span>Fitted</span></span></div></label><div class=\"sk-toggleable__content fitted\"><pre>LogisticRegression(class_weight=&#x27;balanced&#x27;, max_iter=1000, n_jobs=-1,\n",
              "                   random_state=42, solver=&#x27;liblinear&#x27;)</pre></div> </div></div></div></div>"
            ]
          },
          "metadata": {},
          "execution_count": 28
        }
      ],
      "source": [
        "from sklearn.linear_model import LogisticRegression\n",
        "base_model = LogisticRegression(\n",
        "    # Regularization strength, default but can be tweaked later on\n",
        "    # larger C means less regularization (risk of overfit)\n",
        "    # small C means more regularization but risk of underfitting\n",
        "    C = 1.0,\n",
        "    #default solver is lbfgs, it does not support the L1 penalty, and not all solvers support class weighting well\n",
        "    # liblinear supports L1 penalty, which can help with feature selection\n",
        "    solver = \"liblinear\",\n",
        "    max_iter=1000,\n",
        "    class_weight=\"balanced\",\n",
        "    random_state=42,\n",
        "    n_jobs=-1\n",
        ")\n",
        "base_model.fit(X_train_scaled, y_train_encoded)\n"
      ]
    },
    {
      "cell_type": "markdown",
      "metadata": {
        "id": "7T4h1EHck0cv"
      },
      "source": [
        "## 3.1 Feature Importance"
      ]
    },
    {
      "cell_type": "code",
      "execution_count": null,
      "metadata": {
        "colab": {
          "base_uri": "https://localhost:8080/"
        },
        "id": "6r3L2j5xpEpb",
        "outputId": "3c0b8a7f-d172-41a2-872b-327808f9f052"
      },
      "outputs": [
        {
          "output_type": "execute_result",
          "data": {
            "text/plain": [
              "Index(['duration_ms', 'danceability', 'energy', 'loudness', 'speechiness',\n",
              "       'acousticness', 'instrumentalness', 'liveness', 'valence', 'tempo'],\n",
              "      dtype='object')"
            ]
          },
          "metadata": {},
          "execution_count": 29
        }
      ],
      "source": [
        "feature_names = X.columns\n",
        "genre_names = le.classes_\n",
        "feature_names\n"
      ]
    },
    {
      "cell_type": "code",
      "execution_count": null,
      "metadata": {
        "colab": {
          "base_uri": "https://localhost:8080/"
        },
        "id": "eFuU7VV_pbM0",
        "outputId": "03c26bfd-59f2-48f9-ad59-323134f16046"
      },
      "outputs": [
        {
          "output_type": "execute_result",
          "data": {
            "text/plain": [
              "array([0.76385072, 1.30200511, 0.78831826, 0.59123873, 1.05503791,\n",
              "       1.81912129, 1.34645798, 0.45500528, 0.99319354, 0.20182643])"
            ]
          },
          "metadata": {},
          "execution_count": 30
        }
      ],
      "source": [
        "overall_importance = np.max(np.abs(base_model.coef_), axis=0)\n",
        "overall_importance"
      ]
    },
    {
      "cell_type": "code",
      "execution_count": null,
      "metadata": {
        "colab": {
          "base_uri": "https://localhost:8080/",
          "height": 449
        },
        "id": "xC7iEGrpuJa_",
        "outputId": "f13bd8bd-ba4b-409a-aabc-9568389f55fa"
      },
      "outputs": [
        {
          "output_type": "display_data",
          "data": {
            "text/plain": [
              "<Figure size 640x480 with 1 Axes>"
            ],
            "image/png": "[encoded data removed]"
          },
          "metadata": {}
        }
      ],
      "source": [
        "plt.barh(feature_names, overall_importance)\n",
        "plt.xlabel(\"Feature Importance\")\n",
        "plt.show()"
      ]
    },
    {
      "cell_type": "markdown",
      "metadata": {
        "id": "4UZmxy4Iv1T1"
      },
      "source": [
        "Reflection: Keep all features for the next step which will be hyperparameter tuning and more complex models.\n",
        "\n",
        "The key feature can safely be dropped as its magnitude of 0.06 makes it essentially irrelevant for the decision making process of the model. It will not affect accuracy, it could even be adding noise."
      ]
    },
    {
      "cell_type": "markdown",
      "metadata": {
        "id": "106cmNWlxuHH"
      },
      "source": [
        "## 3.2 Logistic Regression Evaluation"
      ]
    },
    {
      "cell_type": "code",
      "execution_count": null,
      "metadata": {
        "colab": {
          "base_uri": "https://localhost:8080/"
        },
        "id": "kl4Yy_IIx32C",
        "outputId": "0abe8041-02ca-4dcd-e763-11e18d56de31"
      },
      "outputs": [
        {
          "output_type": "stream",
          "name": "stdout",
          "text": [
            "Validation Set Report, 12 features\n",
            "              precision    recall  f1-score   support\n",
            "\n",
            "   classical       0.48      0.70      0.57       600\n",
            "     country       0.33      0.37      0.35       600\n",
            "  electronic       0.61      0.41      0.49      1000\n",
            "        folk       0.37      0.28      0.32      1000\n",
            "     hip-hop       0.14      0.26      0.18       200\n",
            "        jazz       0.18      0.14      0.15       400\n",
            "         pop       0.39      0.27      0.32      1000\n",
            "       r-n-b       0.18      0.03      0.05       400\n",
            "      reggae       0.39      0.56      0.46       800\n",
            "        rock       0.47      0.67      0.55      1000\n",
            "\n",
            "    accuracy                           0.41      7000\n",
            "   macro avg       0.35      0.37      0.35      7000\n",
            "weighted avg       0.40      0.41      0.39      7000\n",
            "\n"
          ]
        }
      ],
      "source": [
        "from sklearn.metrics import classification_report\n",
        "\n",
        "y_val_pred_encoded = base_model.predict(X_val_scaled)\n",
        "#convert encoded predictions and true labels back to genre names for the report\n",
        "y_val_true_labels = le.inverse_transform(y_val_encoded)\n",
        "y_val_pred_labels = le.inverse_transform(y_val_pred_encoded)\n",
        "\n",
        "report = classification_report(y_val_true_labels, y_val_pred_labels)\n",
        "print(\"Validation Set Report, 12 features\")\n",
        "print(report)"
      ]
    },
    {
      "cell_type": "code",
      "execution_count": null,
      "metadata": {
        "colab": {
          "base_uri": "https://localhost:8080/"
        },
        "id": "79qr1ThgyLTm",
        "outputId": "f139dde0-1663-4f5b-fab6-ff3f297e97b2"
      },
      "outputs": [
        {
          "output_type": "execute_result",
          "data": {
            "text/plain": [
              "np.float64(0.8023363518615951)"
            ]
          },
          "metadata": {},
          "execution_count": 33
        }
      ],
      "source": [
        "from sklearn.metrics import roc_auc_score\n",
        "y_val_proba = base_model.predict_proba(X_val_scaled)\n",
        "roc_auc_score(y_val, y_val_proba, multi_class='ovr', average='macro')"
      ]
    },
    {
      "cell_type": "code",
      "execution_count": null,
      "metadata": {
        "id": "kQAiPw6kzxUf"
      },
      "outputs": [],
      "source": [
        "# it seems as if the logistic regression base model\n",
        "# is performing extremely bad,\n",
        "# with more mistaken than correct classifications"
      ]
    },
    {
      "cell_type": "markdown",
      "metadata": {
        "id": "eOXr0mWs1CJv"
      },
      "source": [
        "One of the reasons for the low performance of the model could be the way key, time_signature and mode are represented. These three can be disguised as integers, which worsens the prediction performance of the model. The numbers in these features do not have any inherent mathematical relationship to each other."
      ]
    },
    {
      "cell_type": "markdown",
      "metadata": {
        "id": "bztiiQ981_XI"
      },
      "source": [
        "We saw also that these three features had the lowest feature importance for the models prediction. These could have a much clearer relationship with specific genres, to solve this one can use One-Hot Encode, or drop the columns"
      ]
    },
    {
      "cell_type": "code",
      "execution_count": null,
      "metadata": {
        "id": "Js_J9S0R3MRP"
      },
      "outputs": [],
      "source": [
        "#In this cell the model was retrained, after time_signature and mode were dropped."
      ]
    },
    {
      "cell_type": "markdown",
      "metadata": {
        "id": "ffWUXONI3uER"
      },
      "source": [
        "The performance of the model remains poor. The scores did not change meaning that these features were indeed not providing any useful information.\n",
        "\n",
        "It is possible that the data is too complex for the model and is required a non-linear model to unlock the potential."
      ]
    },
    {
      "cell_type": "markdown",
      "metadata": {
        "id": "uegRojvvorXa"
      },
      "source": [
        "## 3.3 Overfit or Underfit plt"
      ]
    },
    {
      "cell_type": "code",
      "execution_count": null,
      "metadata": {
        "colab": {
          "base_uri": "https://localhost:8080/",
          "height": 990
        },
        "id": "t7rMrO2WpJdU",
        "outputId": "79ba4354-f4d7-45f6-d048-b43e4a15a039"
      },
      "outputs": [
        {
          "output_type": "stream",
          "name": "stderr",
          "text": [
            "/usr/local/lib/python3.12/dist-packages/sklearn/linear_model/_logistic.py:1271: UserWarning: 'n_jobs' > 1 does not have any effect when 'solver' is set to 'liblinear'. Got 'n_jobs' = 2.\n",
            "  warnings.warn(\n",
            "/usr/local/lib/python3.12/dist-packages/sklearn/linear_model/_logistic.py:1271: UserWarning: 'n_jobs' > 1 does not have any effect when 'solver' is set to 'liblinear'. Got 'n_jobs' = 2.\n",
            "  warnings.warn(\n",
            "/usr/local/lib/python3.12/dist-packages/sklearn/linear_model/_logistic.py:1271: UserWarning: 'n_jobs' > 1 does not have any effect when 'solver' is set to 'liblinear'. Got 'n_jobs' = 2.\n",
            "  warnings.warn(\n",
            "/usr/local/lib/python3.12/dist-packages/sklearn/linear_model/_logistic.py:1271: UserWarning: 'n_jobs' > 1 does not have any effect when 'solver' is set to 'liblinear'. Got 'n_jobs' = 2.\n",
            "  warnings.warn(\n",
            "/usr/local/lib/python3.12/dist-packages/sklearn/linear_model/_logistic.py:1271: UserWarning: 'n_jobs' > 1 does not have any effect when 'solver' is set to 'liblinear'. Got 'n_jobs' = 2.\n",
            "  warnings.warn(\n",
            "/usr/local/lib/python3.12/dist-packages/sklearn/linear_model/_logistic.py:1271: UserWarning: 'n_jobs' > 1 does not have any effect when 'solver' is set to 'liblinear'. Got 'n_jobs' = 2.\n",
            "  warnings.warn(\n",
            "/usr/local/lib/python3.12/dist-packages/sklearn/linear_model/_logistic.py:1271: UserWarning: 'n_jobs' > 1 does not have any effect when 'solver' is set to 'liblinear'. Got 'n_jobs' = 2.\n",
            "  warnings.warn(\n",
            "/usr/local/lib/python3.12/dist-packages/sklearn/linear_model/_logistic.py:1271: UserWarning: 'n_jobs' > 1 does not have any effect when 'solver' is set to 'liblinear'. Got 'n_jobs' = 2.\n",
            "  warnings.warn(\n",
            "/usr/local/lib/python3.12/dist-packages/sklearn/linear_model/_logistic.py:1271: UserWarning: 'n_jobs' > 1 does not have any effect when 'solver' is set to 'liblinear'. Got 'n_jobs' = 2.\n",
            "  warnings.warn(\n",
            "/usr/local/lib/python3.12/dist-packages/sklearn/linear_model/_logistic.py:1271: UserWarning: 'n_jobs' > 1 does not have any effect when 'solver' is set to 'liblinear'. Got 'n_jobs' = 2.\n",
            "  warnings.warn(\n",
            "/usr/local/lib/python3.12/dist-packages/sklearn/linear_model/_logistic.py:1271: UserWarning: 'n_jobs' > 1 does not have any effect when 'solver' is set to 'liblinear'. Got 'n_jobs' = 2.\n",
            "  warnings.warn(\n",
            "/usr/local/lib/python3.12/dist-packages/sklearn/linear_model/_logistic.py:1271: UserWarning: 'n_jobs' > 1 does not have any effect when 'solver' is set to 'liblinear'. Got 'n_jobs' = 2.\n",
            "  warnings.warn(\n",
            "/usr/local/lib/python3.12/dist-packages/sklearn/linear_model/_logistic.py:1271: UserWarning: 'n_jobs' > 1 does not have any effect when 'solver' is set to 'liblinear'. Got 'n_jobs' = 2.\n",
            "  warnings.warn(\n",
            "/usr/local/lib/python3.12/dist-packages/sklearn/linear_model/_logistic.py:1271: UserWarning: 'n_jobs' > 1 does not have any effect when 'solver' is set to 'liblinear'. Got 'n_jobs' = 2.\n",
            "  warnings.warn(\n",
            "/usr/local/lib/python3.12/dist-packages/sklearn/linear_model/_logistic.py:1271: UserWarning: 'n_jobs' > 1 does not have any effect when 'solver' is set to 'liblinear'. Got 'n_jobs' = 2.\n",
            "  warnings.warn(\n"
          ]
        },
        {
          "output_type": "display_data",
          "data": {
            "text/plain": [
              "<Figure size 640x480 with 1 Axes>"
            ],
            "image/png": "[encoded data removed]"
          },
          "metadata": {}
        }
      ],
      "source": [
        "from sklearn.model_selection import learning_curve\n",
        "\n",
        "train_sizes, train_scores, val_scores = learning_curve(\n",
        "    base_model,\n",
        "    X_train_scaled,\n",
        "    y_train_encoded,\n",
        "    cv=3,\n",
        "    scoring=\"accuracy\"\n",
        ")\n",
        "\n",
        "train_mean = np.mean(train_scores, axis=1)\n",
        "val_mean = np.mean(val_scores, axis=1)\n",
        "\n",
        "plt.plot(train_sizes, train_mean, label=\"Training Accuracy\")\n",
        "plt.plot(train_sizes, val_mean, label=\"Validation Accuracy\")\n",
        "plt.xlabel(\"Training Examples\")\n",
        "plt.ylabel(\"Learning Curve - LogReg\")\n",
        "plt.legend()\n",
        "plt.show()"
      ]
    },
    {
      "cell_type": "markdown",
      "metadata": {
        "id": "h58GSVTSqUxY"
      },
      "source": [
        "Interpretation: The model is underfitting. The model is either too simple or the features are not sufficiently discriminvative. It cannot grasp the complexity of genre classification.\n",
        "\n",
        "Train and validatoin accuracies are close, low variance.\n",
        "\n",
        "Both accuracies are low, high bias.\n",
        "\n",
        "The model is too dumb to find strong patterns."
      ]
    },
    {
      "cell_type": "markdown",
      "metadata": {
        "id": "V2P8SOr680Z8"
      },
      "source": [
        "# 4. Advanced Models. Run 1 by 1"
      ]
    },
    {
      "cell_type": "markdown",
      "metadata": {
        "id": "slSLMJ0A84bd"
      },
      "source": [
        "\n",
        "1.SVM\n",
        "\n",
        "2.Random Forest\n",
        "\n",
        "3.GradientBoostingClassifier: XGBoost, LightGBM\n",
        "\n"
      ]
    },
    {
      "cell_type": "markdown",
      "metadata": {
        "id": "miC9ebRxAVLa"
      },
      "source": [
        "## 4.1 SVM"
      ]
    },
    {
      "cell_type": "code",
      "execution_count": null,
      "metadata": {
        "colab": {
          "base_uri": "https://localhost:8080/"
        },
        "id": "phJbgIMg-lXB",
        "outputId": "91b8d1af-b329-4c82-e9da-9ba47cf2af02"
      },
      "outputs": [
        {
          "name": "stdout",
          "output_type": "stream",
          "text": [
            "Validation Set Report, SVM med rbg kernel\n",
            "              precision    recall  f1-score   support\n",
            "\n",
            "   classical       0.60      0.76      0.67       600\n",
            "     country       0.46      0.45      0.46       600\n",
            "  electronic       0.67      0.49      0.57      1000\n",
            "        folk       0.45      0.38      0.41      1000\n",
            "     hip-hop       0.16      0.40      0.23       200\n",
            "        jazz       0.34      0.29      0.31       400\n",
            "         pop       0.45      0.35      0.39      1000\n",
            "       r-n-b       0.27      0.30      0.28       400\n",
            "      reggae       0.47      0.52      0.49       800\n",
            "        rock       0.57      0.65      0.61      1000\n",
            "\n",
            "    accuracy                           0.48      7000\n",
            "   macro avg       0.44      0.46      0.44      7000\n",
            "weighted avg       0.49      0.48      0.48      7000\n",
            "\n"
          ]
        }
      ],
      "source": [
        "from sklearn.svm import SVC\n",
        "\n",
        "svm_model = SVC(\n",
        "    kernel='rbf',\n",
        "    C=1.0,\n",
        "    class_weight='balanced',\n",
        "     probability=True,\n",
        "    random_state=42,\n",
        "    max_iter=50000\n",
        ")\n",
        "\n",
        "svm_model.fit(X_train_scaled, y_train_encoded)\n",
        "y_val_pred_encoded = svm_model.predict(X_val_scaled)\n",
        "\n",
        "y_val_true_labels = le.inverse_transform(y_val_encoded)\n",
        "y_val_pred_labels = le.inverse_transform(y_val_pred_encoded)\n",
        "\n",
        "report_svm = classification_report(y_val_true_labels, y_val_pred_labels)\n",
        "\n",
        "print(\"Validation Set Report, SVM med rbg kernel\")\n",
        "print(report_svm)\n"
      ]
    },
    {
      "cell_type": "code",
      "execution_count": null,
      "metadata": {
        "colab": {
          "base_uri": "https://localhost:8080/"
        },
        "id": "kTVfXdhKytkN",
        "outputId": "e4803c25-d9f1-4081-81a9-e0cec16515c9"
      },
      "outputs": [
        {
          "data": {
            "text/plain": [
              "np.float64(0.8530373366096329)"
            ]
          },
          "execution_count": 38,
          "metadata": {},
          "output_type": "execute_result"
        }
      ],
      "source": [
        "y_val_proba = svm_model.predict_proba(X_val_scaled)\n",
        "roc_auc_score(y_val, y_val_proba, multi_class='ovr', average='macro')"
      ]
    },
    {
      "cell_type": "markdown",
      "metadata": {
        "id": "15GKHQMb_2zK"
      },
      "source": [
        "SVC performed very poorly with 1000 iterations. Accuracy is 48% with 50k iterations. Accuracy more than doubled."
      ]
    },
    {
      "cell_type": "markdown",
      "metadata": {
        "id": "oTBWSV39C1wa"
      },
      "source": [
        "Training it effectively can take multiple hours, but will set aggressive tweaks and tight constraints to get an overview of the model. SVM has time complexity of O(n^2)"
      ]
    },
    {
      "cell_type": "code",
      "execution_count": null,
      "metadata": {
        "id": "4hpS7B680W6D"
      },
      "outputs": [],
      "source": [
        "from sklearn.model_selection import RandomizedSearchCV\n",
        "from sklearn.svm import SVC\n",
        "from scipy.stats import loguniform"
      ]
    },
    {
      "cell_type": "code",
      "execution_count": null,
      "metadata": {
        "id": "zJtMqAf9AX5D"
      },
      "outputs": [],
      "source": [
        "from sklearn.model_selection import RandomizedSearchCV\n",
        "from sklearn.svm import SVC\n",
        "from scipy.stats import loguniform\n",
        "\n",
        "n_subsample = 8000\n",
        "train_indices = np.arange(X_train_scaled.shape[0])\n",
        "subsample_indices = np.random.choice(train_indices, n_subsample, replace=False)\n",
        "X_train_subsampled = X_train_scaled[subsample_indices]\n",
        "y_train_subsampled = y_train_encoded[subsample_indices]\n",
        "param_distributions = {\n",
        "    'C': loguniform(0.1, 100),\n",
        "    'gamma': loguniform(0.001, 1),\n",
        "    'kernel': ['rbf']\n",
        "}\n",
        "\n",
        "svm_base = SVC(class_weight='balanced', random_state=42, max_iter=50000)\n",
        "\n",
        "random_search = RandomizedSearchCV(\n",
        "    estimator=svm_base,\n",
        "    param_distributions=param_distributions,\n",
        "    n_iter=2,\n",
        "    scoring='f1_weighted',\n",
        "    cv=3,\n",
        "    verbose=2,\n",
        "    random_state=42,\n",
        "    n_jobs=-1\n",
        ")\n",
        "\n"
      ]
    },
    {
      "cell_type": "code",
      "execution_count": null,
      "metadata": {
        "colab": {
          "base_uri": "https://localhost:8080/"
        },
        "id": "fTIImU-hBZwU",
        "outputId": "ba53a234-f17c-47ca-b870-845855ec6717"
      },
      "outputs": [
        {
          "name": "stdout",
          "output_type": "stream",
          "text": [
            "Fitting 3 folds for each of 2 candidates, totalling 6 fits\n",
            "Best Hyperparameters: SVC(C=np.float64(1.3292918943162166), class_weight='balanced',\n",
            "    gamma=np.float64(0.711447600934342), max_iter=50000, random_state=42)\n",
            "------------------------------\n",
            "Validation Set Report, Best SVM\n",
            "              precision    recall  f1-score   support\n",
            "\n",
            "   classical       0.67      0.76      0.71       600\n",
            "     country       0.52      0.55      0.53       600\n",
            "  electronic       0.61      0.59      0.60      1000\n",
            "        folk       0.56      0.51      0.53      1000\n",
            "     hip-hop       0.22      0.38      0.28       200\n",
            "        jazz       0.47      0.43      0.45       400\n",
            "         pop       0.50      0.43      0.47      1000\n",
            "       r-n-b       0.35      0.34      0.34       400\n",
            "      reggae       0.54      0.55      0.54       800\n",
            "        rock       0.60      0.62      0.61      1000\n",
            "\n",
            "    accuracy                           0.54      7000\n",
            "   macro avg       0.50      0.52      0.51      7000\n",
            "weighted avg       0.54      0.54      0.54      7000\n",
            "\n"
          ]
        }
      ],
      "source": [
        "random_search.fit(X_train_scaled, y_train_encoded)\n",
        "best_svm = random_search.best_estimator_\n",
        "print(\"Best Hyperparameters:\", best_svm)\n",
        "y_val_pred_encoded = best_svm.predict(X_val_scaled)\n",
        "\n",
        "print(\"-\"*30)\n",
        "\n",
        "y_val_true_labels = le.inverse_transform(y_val_encoded)\n",
        "y_val_pred_labels = le.inverse_transform(y_val_pred_encoded)\n",
        "\n",
        "report_best_svm = classification_report(y_val_true_labels, y_val_pred_labels)\n",
        "\n",
        "print(\"Validation Set Report, Best SVM\")\n",
        "print(report_best_svm)"
      ]
    },
    {
      "cell_type": "markdown",
      "metadata": {
        "id": "YAKDnaZkFdYn"
      },
      "source": [
        "A 3 minute search of hyperparams ended up giving a 54% accuracy, which is far from ideal, but it is still a 13% increase from the base model. We will move on with more powerful models"
      ]
    },
    {
      "cell_type": "code",
      "execution_count": null,
      "metadata": {
        "id": "ku2wjlEMtQgu"
      },
      "outputs": [],
      "source": [
        "train_sizes, train_scores, val_scores = learning_curve(\n",
        "    best_svm,\n",
        "    X_train_scaled,\n",
        "    y_train_encoded,\n",
        "    cv=3,\n",
        "    scoring='accuracy',\n",
        "    n_jobs=-1,\n",
        "    train_sizes=np.linspace(0.1, 1.0, 5),\n",
        "    random_state=42\n",
        ")\n",
        "\n",
        "train_mean = np.mean(train_scores, axis=1)\n",
        "val_mean = np.mean(val_scores, axis=1)"
      ]
    },
    {
      "cell_type": "code",
      "execution_count": null,
      "metadata": {
        "colab": {
          "base_uri": "https://localhost:8080/",
          "height": 872
        },
        "id": "cKsPnboNwyP_",
        "outputId": "60c6c708-cd53-4745-9233-acbe461a319e"
      },
      "outputs": [
        {
          "data": {
            "image/png": "[encoded data removed]",
            "text/plain": [
              "<Figure size 1000x1000 with 1 Axes>"
            ]
          },
          "metadata": {},
          "output_type": "display_data"
        }
      ],
      "source": [
        "plt.figure(figsize=(10, 10))\n",
        "plt.plot(train_sizes, train_mean, 'o-', color='royalblue', label='Training Accuracy')\n",
        "plt.plot(train_sizes, val_mean, 'o-', color='orange', label='Validation Accuracy')\n",
        "\n",
        "plt.title(\"Learning Curve - SVM (RBF Kernel)\")\n",
        "plt.xlabel(\"Training Examples\")\n",
        "plt.ylabel(\"Accuracy\")\n",
        "plt.legend()\n",
        "plt.grid(True)\n",
        "plt.show()"
      ]
    },
    {
      "cell_type": "markdown",
      "metadata": {
        "id": "g7HPdWNLu6Kp"
      },
      "source": [
        "Huge gap > the model is overfitting the training data patterns and fails to generalize. The reasons for that could be in how \"C\" and \"gamma\" were affected.\n",
        "\n",
        "With standarized data C can be pushed towards 1000 to separate tight clusters.\n",
        "\n",
        "With scaled features, gamma values above 1 can still matter and 0.001 might be too high for our model because it has many features.\n"
      ]
    },
    {
      "cell_type": "markdown",
      "metadata": {
        "id": "XWmaxsvwGB6P"
      },
      "source": [
        "## 4.2 Random Forest Classifier"
      ]
    },
    {
      "cell_type": "markdown",
      "metadata": {
        "id": "Q_s0WKo2GK4Z"
      },
      "source": [
        "With nlogn Time Complexity, it can be tuned a lot more, as well as be trained on the entire dataset and provide better results."
      ]
    },
    {
      "cell_type": "markdown",
      "metadata": {
        "id": "dqb3wUF52Z2x"
      },
      "source": [
        "Execution time: 9min"
      ]
    },
    {
      "cell_type": "code",
      "execution_count": null,
      "metadata": {
        "colab": {
          "background_save": true,
          "base_uri": "https://localhost:8080/"
        },
        "id": "JagTtF75F5f3",
        "outputId": "d34058e1-c0bd-456b-99aa-3ced42a8d1e3"
      },
      "outputs": [
        {
          "name": "stdout",
          "output_type": "stream",
          "text": [
            "Fitting 3 folds for each of 10 candidates, totalling 30 fits\n",
            "Best Hyperparameters: RandomForestClassifier(class_weight='balanced', max_depth=30,\n",
            "                       min_samples_split=8, n_estimators=206, random_state=42)\n",
            "Best cross-validation F1-weighted score: 0.5814\n"
          ]
        }
      ],
      "source": [
        "from sklearn.ensemble import RandomForestClassifier\n",
        "from scipy.stats import randint\n",
        "# 1. set the param list\n",
        "rf_param_dist = {\n",
        "    'n_estimators': randint(low=100, high=500),\n",
        "    'max_depth': [None, 10, 20, 30],\n",
        "    'min_samples_split': randint(low=2, high=10),\n",
        "    'min_samples_leaf': randint(low=1, high=5),\n",
        "    'criterion': ['gini', 'entropy'],\n",
        "    'class_weight': ['balanced']\n",
        "}\n",
        "#2.\n",
        "rf_base = RandomForestClassifier(class_weight='balanced', random_state=42)\n",
        "\n",
        "# RF is quick, we can train it on the full dataset with more iterations to get a more reliable tune\n",
        "\n",
        "rf_random_search = RandomizedSearchCV(\n",
        "    estimator=rf_base,\n",
        "    param_distributions=rf_param_dist,\n",
        "    n_iter=10,\n",
        "    scoring='f1_weighted',\n",
        "    cv=3,\n",
        "    verbose=2,\n",
        "    random_state=42,\n",
        "    n_jobs=-1\n",
        ")\n",
        "\n",
        "rf_random_search.fit(X_train_scaled, y_train_encoded)\n",
        "best_rf = rf_random_search.best_estimator_\n",
        "print(\"Best Hyperparameters:\", best_rf)\n",
        "print(f'Best cross-validation F1-weighted score: {rf_random_search.best_score_:.4f}')"
      ]
    },
    {
      "cell_type": "code",
      "execution_count": null,
      "metadata": {
        "colab": {
          "background_save": true
        },
        "id": "2Xd-R1Zq256l",
        "outputId": "9694a96e-f209-4eac-d053-82ea1a811d12"
      },
      "outputs": [
        {
          "name": "stdout",
          "output_type": "stream",
          "text": [
            "------------------------------\n",
            "Validation Set Report, Best RF\n",
            "              precision    recall  f1-score   support\n",
            "\n",
            "   classical       0.69      0.79      0.74       600\n",
            "     country       0.62      0.63      0.62       600\n",
            "  electronic       0.73      0.63      0.67      1000\n",
            "        folk       0.61      0.65      0.63      1000\n",
            "     hip-hop       0.39      0.34      0.36       200\n",
            "        jazz       0.62      0.44      0.51       400\n",
            "         pop       0.53      0.51      0.52      1000\n",
            "       r-n-b       0.50      0.39      0.44       400\n",
            "      reggae       0.55      0.65      0.60       800\n",
            "        rock       0.63      0.69      0.66      1000\n",
            "\n",
            "    accuracy                           0.61      7000\n",
            "   macro avg       0.59      0.57      0.58      7000\n",
            "weighted avg       0.61      0.61      0.60      7000\n",
            "\n"
          ]
        }
      ],
      "source": [
        "y_val_pred_encoded = best_rf.predict(X_val_scaled)\n",
        "\n",
        "print(\"-\"*30)\n",
        "\n",
        "y_val_true_labels = le.inverse_transform(y_val_encoded)\n",
        "y_val_pred_labels = le.inverse_transform(y_val_pred_encoded)\n",
        "\n",
        "report_best_rf = classification_report(y_val_true_labels, y_val_pred_labels)\n",
        "\n",
        "print(\"Validation Set Report, Best RF\")\n",
        "print(report_best_rf)"
      ]
    },
    {
      "cell_type": "code",
      "execution_count": null,
      "metadata": {
        "colab": {
          "background_save": true
        },
        "id": "QukuNNZf0eQ3",
        "outputId": "c36d533a-f052-40b8-b908-4c6729b64922"
      },
      "outputs": [
        {
          "data": {
            "text/plain": [
              "np.float64(0.8980917748805956)"
            ]
          },
          "execution_count": 46,
          "metadata": {},
          "output_type": "execute_result"
        }
      ],
      "source": [
        "from sklearn.metrics import roc_auc_score\n",
        "y_val_proba = best_rf.predict_proba(X_val_scaled)\n",
        "roc_auc_score(y_val, y_val_proba, multi_class='ovr', average='macro')"
      ]
    },
    {
      "cell_type": "markdown",
      "metadata": {
        "id": "jetCDLuZ4Gzw"
      },
      "source": [
        "61% accuracy performance is good baseline for a multi class problem like this one.\n",
        "\n",
        "n_estimators=206 (speed vs performance), max_depth=30 - deep forest - indication that the data requires complex, non-linear boundaries, min_samples_split=8 - prevents overfitting.\n",
        "\n",
        "RFC struggled with Hip-Hop. It confuses the genre significantly with other genres. F1 score is 0.36\n",
        "\n",
        "R-n-b had a low recall at 0.39. It means the model misses these tracks, aka misclassifying them. Same for jazz.\n",
        "\n",
        "So the classes with the lowest support are the ones performing the worst. Although we are weighting the classes, the model still has trouble learning the minority class patterns effectively."
      ]
    },
    {
      "cell_type": "code",
      "execution_count": null,
      "metadata": {
        "id": "_wG2lWpB3kFj"
      },
      "outputs": [],
      "source": [
        "# plot learning curve to check for overfitting or underfitting\n",
        "#\n",
        "train_sizes, train_scores, val_scores = learning_curve(\n",
        "    best_rf, X_train, y_train, cv=5, scoring='accuracy',\n",
        "    n_jobs=-1, train_sizes=np.linspace(0.1, 1.0, 10)\n",
        ")\n",
        "\n"
      ]
    },
    {
      "cell_type": "code",
      "execution_count": null,
      "metadata": {
        "id": "j1DoLJhK6Dq7"
      },
      "outputs": [],
      "source": [
        "\n",
        "plt.figure(figsize=(8,5))\n",
        "plt.plot(train_sizes, np.mean(train_scores, axis=1), 'o-', label='Training score')\n",
        "plt.plot(train_sizes, np.mean(val_scores, axis=1), 'o-', label='Validation score')\n",
        "plt.xlabel(\"Training Set Size\")\n",
        "plt.ylabel(\"Accuracy\")\n",
        "plt.title(\"Random Forest Learning Curve\")\n",
        "plt.legend()\n",
        "plt.grid()\n",
        "plt.show()"
      ]
    },
    {
      "cell_type": "code",
      "execution_count": null,
      "metadata": {
        "id": "guCzPTTT6HpX"
      },
      "outputs": [],
      "source": [
        "# feature importance bar plot\n",
        "# if a few features dominate there is a risk of high variance\n",
        "importances = best_rf.feature_importances_\n",
        "indices = np.argsort(importances)[::-1]\n",
        "\n",
        "plt.figure(figsize=(10,6))\n",
        "plt.bar(range(len(importances)), importances[indices][:15], align='center')\n",
        "plt.xticks(range(len(importances)), np.array(feature_names)[indices][:15], rotation=45, ha='right')\n",
        "plt.title(\"Feature Importances in Random Forest\")\n",
        "plt.tight_layout()\n",
        "plt.show()"
      ]
    },
    {
      "cell_type": "markdown",
      "metadata": {
        "id": "7gh1ydhD_rkK"
      },
      "source": [
        "## 4.3 Gradient Boosting"
      ]
    },
    {
      "cell_type": "markdown",
      "metadata": {
        "id": "YIM8PcsSH8LY"
      },
      "source": [
        "Time to fit the model: 25 minutes"
      ]
    },
    {
      "cell_type": "markdown",
      "metadata": {
        "id": "fQg1TWw3ADGU"
      },
      "source": [
        "Models like XGBoost and LightGBM build the trees sequentially, correcting the errors of the previous trees. In theory they should be way better at learning complex boundaries. In practice... we are about to find out."
      ]
    },
    {
      "cell_type": "markdown",
      "metadata": {
        "id": "EXaNAZcvAadj"
      },
      "source": [
        "We will use LightGBM since it is faster and more memory-efficient.\n",
        "\n",
        "Can lead to overfitting, but it can be minimized by defining the depth for splitting."
      ]
    },
    {
      "cell_type": "code",
      "execution_count": null,
      "metadata": {
        "id": "vlpO4PUkAZW8"
      },
      "outputs": [],
      "source": [
        "from lightgbm import LGBMClassifier\n",
        "\n",
        "# base estimator\n",
        "lgbm_base = LGBMClassifier(\n",
        "    objective='multiclass',\n",
        "    metric='multi_logloss',\n",
        "    n_jobs=-1,\n",
        "    random_state=42,\n",
        "    class_weight='balanced'\n",
        ")\n",
        "\n",
        "# hyperparam search space\n",
        "lgbm_param_dist = {\n",
        "    'n_estimators': randint(low=100, high=500),\n",
        "    'learning_rate': loguniform(0.01, 0.3), # step size at each iteration\n",
        "    'max_depth': [10,20,30],\n",
        "    'reg_alpha': loguniform(0.001,10), # l1 regularization\n",
        "    'reg_lambda': loguniform(0.001,10) # l2\n",
        "}\n",
        "\n",
        "#RandomizedSearchCV\n",
        "lgbm_random_search = RandomizedSearchCV(\n",
        "    estimator=lgbm_base,\n",
        "    param_distributions=lgbm_param_dist,\n",
        "    n_iter=15,\n",
        "    scoring='f1_weighted',\n",
        "    cv=3,\n",
        "    verbose=2,\n",
        "    random_state=42,\n",
        "    n_jobs=-1\n",
        ")\n",
        "\n",
        "\n"
      ]
    },
    {
      "cell_type": "code",
      "execution_count": null,
      "metadata": {
        "id": "2gQiIqXDB95g"
      },
      "outputs": [],
      "source": [
        "lgbm_random_search.fit(X_train_scaled, y_train_encoded)\n",
        "best_lgbm = lgbm_random_search.best_estimator_\n",
        "print(\"Best Hyperparameters:\", best_lgbm)\n",
        "print(f'Best cross-validation F1-weighted score: {lgbm_random_search.best_score_:.4f}')"
      ]
    },
    {
      "cell_type": "code",
      "execution_count": null,
      "metadata": {
        "id": "8fp5wFtrCuZU"
      },
      "outputs": [],
      "source": [
        "y_val_pred_encoded = best_lgbm.predict(X_val_scaled)\n",
        "\n",
        "print(\"-\"*30)\n",
        "\n",
        "y_val_true_labels = le.inverse_transform(y_val_encoded)\n",
        "y_val_pred_labels = le.inverse_transform(y_val_pred_encoded)\n",
        "\n",
        "report_best_lgbm = classification_report(y_val_true_labels, y_val_pred_labels)\n",
        "\n",
        "print(\"Validation Set Report, Best LGBM\")\n",
        "print(report_best_lgbm)"
      ]
    },
    {
      "cell_type": "code",
      "execution_count": null,
      "metadata": {
        "id": "ZD5PQKVw055F"
      },
      "outputs": [],
      "source": [
        "\n",
        "y_val_proba = best_lgbm.predict_proba(X_val_scaled)\n",
        "roc_auc_score(y_val, y_val_proba, multi_class='ovr', average='macro')"
      ]
    },
    {
      "cell_type": "markdown",
      "metadata": {
        "id": "-pCIvAMQKOrA"
      },
      "source": [
        "Slightly worse performance than RFC."
      ]
    },
    {
      "cell_type": "markdown",
      "metadata": {
        "id": "sNG40y8OxhLN"
      },
      "source": [
        "# 5. Consider an Ensemble"
      ]
    },
    {
      "cell_type": "code",
      "execution_count": null,
      "metadata": {
        "id": "69DT4zZGxqCH",
        "colab": {
          "base_uri": "https://localhost:8080/",
          "height": 211
        },
        "outputId": "7795da6a-2c2c-41e7-a308-2f8db7cc96da"
      },
      "outputs": [
        {
          "output_type": "error",
          "ename": "NameError",
          "evalue": "name 'base_model' is not defined",
          "traceback": [
            "\u001b[0;31m---------------------------------------------------------------------------\u001b[0m",
            "\u001b[0;31mNameError\u001b[0m                                 Traceback (most recent call last)",
            "\u001b[0;32m/tmp/ipython-input-421235222.py\u001b[0m in \u001b[0;36m<cell line: 0>\u001b[0;34m()\u001b[0m\n\u001b[1;32m      1\u001b[0m proba_preds = {\n\u001b[0;32m----> 2\u001b[0;31m     \u001b[0;34m\"base_model\"\u001b[0m\u001b[0;34m:\u001b[0m \u001b[0mbase_model\u001b[0m\u001b[0;34m.\u001b[0m\u001b[0mpredit_proba\u001b[0m\u001b[0;34m(\u001b[0m\u001b[0mX_val_scaled\u001b[0m\u001b[0;34m)\u001b[0m\u001b[0;34m,\u001b[0m\u001b[0;34m\u001b[0m\u001b[0;34m\u001b[0m\u001b[0m\n\u001b[0m\u001b[1;32m      3\u001b[0m     \u001b[0;34m\"svm_model\"\u001b[0m\u001b[0;34m:\u001b[0m \u001b[0msvm_model\u001b[0m\u001b[0;34m.\u001b[0m\u001b[0mpredict_proba\u001b[0m\u001b[0;34m(\u001b[0m\u001b[0mX_val_scaled\u001b[0m\u001b[0;34m)\u001b[0m\u001b[0;34m,\u001b[0m\u001b[0;34m\u001b[0m\u001b[0;34m\u001b[0m\u001b[0m\n\u001b[1;32m      4\u001b[0m     \u001b[0;34m\"best_rf\"\u001b[0m\u001b[0;34m:\u001b[0m \u001b[0mbest_rf\u001b[0m\u001b[0;34m.\u001b[0m\u001b[0mpredict_proba\u001b[0m\u001b[0;34m(\u001b[0m\u001b[0mX_val_scaled\u001b[0m\u001b[0;34m)\u001b[0m\u001b[0;34m,\u001b[0m\u001b[0;34m\u001b[0m\u001b[0;34m\u001b[0m\u001b[0m\n\u001b[1;32m      5\u001b[0m     \u001b[0;34m\"best_lgbm\"\u001b[0m\u001b[0;34m:\u001b[0m \u001b[0mbest_lgbm\u001b[0m\u001b[0;34m.\u001b[0m\u001b[0mpredict_proba\u001b[0m\u001b[0;34m(\u001b[0m\u001b[0mX_val_scaled\u001b[0m\u001b[0;34m)\u001b[0m\u001b[0;34m\u001b[0m\u001b[0;34m\u001b[0m\u001b[0m\n",
            "\u001b[0;31mNameError\u001b[0m: name 'base_model' is not defined"
          ]
        }
      ],
      "source": [
        "proba_preds = {\n",
        "    \"base_model\": base_model.predit_proba(X_val_scaled),\n",
        "    \"svm_model\": svm_model.predict_proba(X_val_scaled),\n",
        "    \"best_rf\": best_rf.predict_proba(X_val_scaled),\n",
        "    \"best_lgbm\": best_lgbm.predict_proba(X_val_scaled)\n",
        "}"
      ]
    },
    {
      "cell_type": "markdown",
      "source": [
        "The results were not saved but after attempting a Votingclassifier ensemble it turned out that RFC was best performing alone."
      ],
      "metadata": {
        "id": "FqVwCkTg73DT"
      }
    },
    {
      "cell_type": "markdown",
      "source": [
        "# 6. Gradio"
      ],
      "metadata": {
        "id": "UhSW-HY48DLF"
      }
    },
    {
      "cell_type": "code",
      "source": [
        "X_combined = np.concatenate((X_train, X_val), axis=0)\n",
        "y_combined_encoded = np.concatenate((y_train_encoded, y_val_encoded), axis=0)\n",
        "scaler = StandardScaler()\n",
        "X_combined_scaled = scaler.fit_transform(X_combined)\n",
        "\n",
        "final_params = {\n",
        "    'n_estimators': 206,\n",
        "    'max_depth': 30,\n",
        "    'min_samples_split': 8,\n",
        "    'random_state': 42\n",
        "}\n",
        "\n",
        "final_rf = RandomForestClassifier(n_jobs=-1, **final_params)\n",
        "final_rf.fit(X_combined_scaled, y_combined_encoded)\n",
        "\n",
        "joblib.dump(final_rf, 'final_rf.pkl')\n",
        "joblib.dump(scaler, 'scaler.pkl')\n",
        "joblib.dump(le, 'label_encoder.pkl')\n",
        "\n",
        "print(\"SAVED\")"
      ],
      "metadata": {
        "colab": {
          "base_uri": "https://localhost:8080/"
        },
        "id": "qsb_lC5h8ZuQ",
        "outputId": "dc9270c3-b37b-4b8d-d741-24ba6e338739"
      },
      "execution_count": null,
      "outputs": [
        {
          "output_type": "stream",
          "name": "stdout",
          "text": [
            "SAVED\n"
          ]
        }
      ]
    }
  ],
  "metadata": {
    "colab": {
      "provenance": [],
      "include_colab_link": true
    },
    "kernelspec": {
      "display_name": "Python 3",
      "name": "python3"
    },
    "language_info": {
      "name": "python"
    }
  },
  "nbformat": 4,
  "nbformat_minor": 0
}